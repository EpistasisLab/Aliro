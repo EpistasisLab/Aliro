{
 "cells": [
  {
   "cell_type": "code",
   "execution_count": 5,
   "metadata": {},
   "outputs": [
    {
     "name": "stdout",
     "output_type": "stream",
     "text": [
      "Collecting simplejson\n",
      "  Using cached https://files.pythonhosted.org/packages/36/59/e8433d95e0683a045060a020624dec653499df73726359d68d567869cbac/simplejson-3.17.0-cp37-cp37m-win_amd64.whl\n",
      "Installing collected packages: simplejson\n",
      "Successfully installed simplejson-3.17.0\n"
     ]
    }
   ],
   "source": [
    "#!conda install --yes --prefix {sys.prefix} simplejson\n",
    "import sys\n",
    "!{sys.executable} -m pip install simplejson"
   ]
  },
  {
   "cell_type": "code",
   "execution_count": 6,
   "metadata": {},
   "outputs": [],
   "source": [
    "import ai.metalearning\n",
    "import simplejson\n",
    "import ai.knowledgebase_loader as kb_loader\n",
    "import pandas as pd"
   ]
  },
  {
   "cell_type": "code",
   "execution_count": 7,
   "metadata": {},
   "outputs": [
    {
     "name": "stdout",
     "output_type": "stream",
     "text": [
      "hello\n"
     ]
    }
   ],
   "source": [
    "print(\"hello\")"
   ]
  },
  {
   "cell_type": "code",
   "execution_count": null,
   "metadata": {},
   "outputs": [],
   "source": []
  }
 ],
 "metadata": {
  "kernelspec": {
   "display_name": "Python 3",
   "language": "python",
   "name": "python3"
  },
  "language_info": {
   "codemirror_mode": {
    "name": "ipython",
    "version": 3
   },
   "file_extension": ".py",
   "mimetype": "text/x-python",
   "name": "python",
   "nbconvert_exporter": "python",
   "pygments_lexer": "ipython3",
   "version": "3.7.3"
  }
 },
 "nbformat": 4,
 "nbformat_minor": 2
}
