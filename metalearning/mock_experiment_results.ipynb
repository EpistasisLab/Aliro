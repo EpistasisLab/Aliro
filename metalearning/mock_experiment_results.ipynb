{
 "cells": [
  {
   "cell_type": "code",
   "execution_count": 52,
   "metadata": {
    "scrolled": false
   },
   "outputs": [
    {
     "name": "stdout",
     "output_type": "stream",
     "text": [
      "   trial  iteration recommender         dataset                  ml-rec  \\\n",
      "0      0          0      random  car-evaluation  RandomForestClassifier   \n",
      "1      0          0      random  car-evaluation      LogisticRegression   \n",
      "2      0          0      random  car-evaluation                     SVC   \n",
      "3      0          0      random  car-evaluation    KNeighborsClassifier   \n",
      "4      0          0      random  car-evaluation  RandomForestClassifier   \n",
      "\n",
      "                                               p-rec  bal_accuracy  \n",
      "0  n_estimators=1000,min_weight_fraction_leaf=0.0...      0.974156  \n",
      "1    C=15.0,penalty=l2,fit_intercept=True,dual=True,      0.831229  \n",
      "2  C=0.01,gamma=0.01,kernel=poly,degree=2,coef0=5...      0.762277  \n",
      "3                    n_neighbors=25,weights=distance      0.687294  \n",
      "4  n_estimators=500,min_weight_fraction_leaf=0.2,...      0.500000  \n",
      "Index(['trial', 'iteration', 'recommender', 'dataset', 'ml-rec', 'p-rec',\n",
      "       'bal_accuracy'],\n",
      "      dtype='object')\n"
     ]
    },
    {
     "ename": "NameError",
     "evalue": "name 'sb' is not defined",
     "output_type": "error",
     "traceback": [
      "\u001b[0;31m---------------------------------------------------------------------------\u001b[0m",
      "\u001b[0;31mNameError\u001b[0m                                 Traceback (most recent call last)",
      "\u001b[0;32m<ipython-input-52-e594c17b0f75>\u001b[0m in \u001b[0;36m<module>\u001b[0;34m()\u001b[0m\n\u001b[1;32m     11\u001b[0m \u001b[0mplt\u001b[0m\u001b[0;34m.\u001b[0m\u001b[0mfigure\u001b[0m\u001b[0;34m(\u001b[0m\u001b[0mfigsize\u001b[0m\u001b[0;34m=\u001b[0m\u001b[0;34m(\u001b[0m\u001b[0;36m20\u001b[0m\u001b[0;34m,\u001b[0m\u001b[0;36m10\u001b[0m\u001b[0;34m)\u001b[0m\u001b[0;34m)\u001b[0m\u001b[0;34m\u001b[0m\u001b[0m\n\u001b[1;32m     12\u001b[0m \u001b[0;31m#sb.lmplot(data=df, x='iteration',y='bal_accuracy',hue='recommender')\u001b[0m\u001b[0;34m\u001b[0m\u001b[0;34m\u001b[0m\u001b[0m\n\u001b[0;32m---> 13\u001b[0;31m sb.tsplot(data=df, time=\"iteration\", condition=\"recommender\", value=\"bal_accuracy\", \n\u001b[0m\u001b[1;32m     14\u001b[0m           err_style=\"ci_bars\", estimator=np.median)\n\u001b[1;32m     15\u001b[0m \u001b[0;31m# sb.boxplot(data=df,x='iteration',y='bal_accuracy',hue='recommender')\u001b[0m\u001b[0;34m\u001b[0m\u001b[0;34m\u001b[0m\u001b[0m\n",
      "\u001b[0;31mNameError\u001b[0m: name 'sb' is not defined"
     ]
    },
    {
     "data": {
      "text/plain": [
       "<matplotlib.figure.Figure at 0x7fb18e717a58>"
      ]
     },
     "metadata": {},
     "output_type": "display_data"
    }
   ],
   "source": [
    "import pandas as pd\n",
    "import numpy as np\n",
    "import matplotlib.pyplot as plt\n",
    "%matplotlib inline\n",
    "# import seaborn as sb\n",
    "\n",
    "experiment = '../experiment_random-average_10recs_1000trials_1init.csv'\n",
    "df = pd.read_csv(experiment,sep='\\t')\n",
    "print(df[:5])\n",
    "print(df.columns)\n",
    "plt.figure(figsize=(20,10))\n",
    "#sb.lmplot(data=df, x='iteration',y='bal_accuracy',hue='recommender')\n",
    "sb.tsplot(data=df, time=\"iteration\", condition=\"recommender\", value=\"bal_accuracy\", \n",
    "          err_style=\"ci_bars\", estimator=np.median)\n",
    "# sb.boxplot(data=df,x='iteration',y='bal_accuracy',hue='recommender')\n",
    "#plt.ylim([0.5,1])\n",
    "plt.savefig(experiment[:-4]+'accuracy_comparison.pdf')"
   ]
  },
  {
   "cell_type": "code",
   "execution_count": 53,
   "metadata": {
    "scrolled": false
   },
   "outputs": [
    {
     "name": "stdout",
     "output_type": "stream",
     "text": [
      "algs: ['RandomForestClassifier', 'LogisticRegression', 'SVC', 'KNeighborsClassifier', 'GradientBoostingClassifier', 'DecisionTreeClassifier']\n",
      "ave_count_mat (6, 149)\n"
     ]
    },
    {
     "data": {
      "image/png": "[encoded data removed]",
      "text/plain": [
       "<matplotlib.figure.Figure at 0x7fb1a4bf2b00>"
      ]
     },
     "metadata": {},
     "output_type": "display_data"
    }
   ],
   "source": [
    "# generate figure of heatmap showing counts of which ML methods are recommended over time\n",
    "experiment = '../experiment_random-average_10recs_1000trials_1init.csv'\n",
    "df = pd.read_csv(experiment,sep='\\t')\n",
    "n_trials = df['trial'].max()\n",
    "ave_count_mat = np.zeros((len(df['ml-rec'].unique()),len(df['iteration'].unique())))                     \n",
    "rand_count_mat = np.zeros((len(df['ml-rec'].unique()),len(df['iteration'].unique())))\n",
    "algs = list(df['ml-rec'].unique())\n",
    "iterations = df['iteration'].unique()\n",
    "print('algs:',algs)\n",
    "print('ave_count_mat',ave_count_mat.shape)\n",
    "\n",
    "dfa = df.loc[df['recommender']=='average',:]\n",
    "\n",
    "dfa.groupby('iteration').count() #.groupby('ml-rec').count()\n",
    "\n",
    "for index,row in dfa.iterrows():\n",
    "    ave_count_mat[algs.index(row['ml-rec']),row['iteration']] += 1/n_trials\n",
    "# cumulative sum\n",
    "#for i,a in enumerate(ave_count_mat): \n",
    "#     ave_count_mat[i] = np.cumsum(a)\n",
    "#print('ave_count_mat:',ave_count_mat)\n",
    "        \n",
    "h = plt.figure(figsize=(10, 15))\n",
    "ax = h.gca()\n",
    "tmp = ax.matshow(ave_count_mat,cmap=plt.cm.coolwarm)\n",
    "# sb.heatmap(ave_count_mat)#,\n",
    "           #cmap=sb.cubehelix_palette(500, light=0.95, dark=0.15),\n",
    "#            square=False, annot=True, vmin=0., vmax=1.0,\n",
    "#            xticklabels=iterations, yticklabels=algs, cbar=False)\n",
    "cbar=plt.colorbar(tmp,ax=ax,orientation='vertical',shrink=0.1)\n",
    "ax.set_yticks(np.arange(len(algs)))\n",
    "ax.set_yticklabels(algs)\n",
    "ax.set_xlabel('Datasets', fontsize=8)\n",
    "ax.set_ylabel('Recommendations', fontsize=8)\n",
    "#plt.title('ML Recommendations over many datasets', fontsize=18)\n",
    "ax.set_aspect(4)\n",
    "h.tight_layout()\n",
    "h.savefig(experiment[:-4]+'_heatmap.pdf', bbox_inches='tight')\n",
    "    "
   ]
  },
  {
   "cell_type": "code",
   "execution_count": null,
   "metadata": {
    "collapsed": true
   },
   "outputs": [],
   "source": []
  }
 ],
 "metadata": {
  "kernelspec": {
   "display_name": "Python [default]",
   "language": "python",
   "name": "python3"
  },
  "language_info": {
   "codemirror_mode": {
    "name": "ipython",
    "version": 3
   },
   "file_extension": ".py",
   "mimetype": "text/x-python",
   "name": "python",
   "nbconvert_exporter": "python",
   "pygments_lexer": "ipython3",
   "version": "3.5.3"
  }
 },
 "nbformat": 4,
 "nbformat_minor": 2
}
