{
 "cells": [
  {
   "cell_type": "code",
   "execution_count": 1,
   "metadata": {},
   "outputs": [
    {
     "name": "stderr",
     "output_type": "stream",
     "text": [
      "base: WARNING: value of ml_p is None\n",
      "knowledgebase_loader: INFO: load_knowledgebase('['data/knowledgebases/sklearn-benchmark-data-knowledgebase-r6.tsv.gz']', ['data/knowledgebases/pmlb_classification_metafeatures.csv.gz']', '')\n",
      "knowledgebase_loader: INFO: _load_results_from_file(data/knowledgebases/sklearn-benchmark-data-knowledgebase-r6.tsv.gz)\n"
     ]
    },
    {
     "name": "stdout",
     "output_type": "stream",
     "text": [
      "60 hyperparameter combinations for BernoulliNB\n",
      "1 hyperparameter combinations for GaussianNB\n",
      "12 hyperparameter combinations for MultinomialNB\n",
      "2880 hyperparameter combinations for DecisionTreeClassifier\n",
      "384 hyperparameter combinations for ExtraTreesClassifier\n",
      "1536 hyperparameter combinations for GradientBoostingClassifier\n",
      "240 hyperparameter combinations for XGBClassifier\n",
      "24 hyperparameter combinations for KNeighborsClassifier\n",
      "280 hyperparameter combinations for LinearSVC\n",
      "56 hyperparameter combinations for LogisticRegression\n",
      "2560 hyperparameter combinations for RandomForestClassifier\n",
      "6860 hyperparameter combinations for SVC\n"
     ]
    },
    {
     "name": "stderr",
     "output_type": "stream",
     "text": [
      "knowledgebase_loader: INFO: returning 52249 results from data/knowledgebases/sklearn-benchmark-data-knowledgebase-r6.tsv.gz\n",
      "knowledgebase_loader: INFO: concatenating results....\n",
      "knowledgebase_loader: INFO: deduplicating results....\n",
      "knowledgebase_loader: INFO: loaded 52249 experiments, 52249 after dropDuplicates\n",
      "knowledgebase_loader: INFO: load metafeatures...\n",
      "knowledgebase_loader: INFO: Loading metadata from file 'data/knowledgebases/pmlb_classification_metafeatures.csv.gz\n"
     ]
    },
    {
     "name": "stdout",
     "output_type": "stream",
     "text": [
      "Start iteration # 1\n",
      "{'dataset_id': 'c56787c9eecd053527dd6aa366505556abe20c2f22149b9805182618cfb0fb79', 'algorithm': 'SVC', 'parameters': {'C': 0.01, 'gamma': 0.1, 'kernel': 'poly', 'degree': 3, 'coef0': 10.0, 'tol': 0.001}, 'ai_score': 0.3781766327952407}\n",
      "{'dataset_id': 'c56787c9eecd053527dd6aa366505556abe20c2f22149b9805182618cfb0fb79', 'algorithm': 'GradientBoostingClassifier', 'parameters': {'learning_rate': 0.01, 'n_estimators': 100, 'max_depth': 10, 'max_features': 'log2', 'min_samples_leaf': 1, 'min_samples_split': 2, 'subsample': 1.0}, 'ai_score': 1.5703934853108212}\n",
      "{'dataset_id': 'c56787c9eecd053527dd6aa366505556abe20c2f22149b9805182618cfb0fb79', 'algorithm': 'LogisticRegression', 'parameters': {'C': 1.0, 'penalty': 'l1', 'fit_intercept': True, 'dual': False}, 'ai_score': 1.5885353684816539}\n",
      "{'dataset_id': 'c56787c9eecd053527dd6aa366505556abe20c2f22149b9805182618cfb0fb79', 'algorithm': 'GradientBoostingClassifier', 'parameters': {'learning_rate': 1.0, 'n_estimators': 500, 'max_depth': 1, 'max_features': 'log2', 'min_samples_leaf': 1, 'min_samples_split': 2, 'subsample': 1.0}, 'ai_score': 1.649397876751242}\n",
      "{'dataset_id': 'c56787c9eecd053527dd6aa366505556abe20c2f22149b9805182618cfb0fb79', 'algorithm': 'SVC', 'parameters': {'C': 1.0, 'gamma': 100.0, 'kernel': 'poly', 'degree': 3, 'coef0': 10.0, 'tol': 0.001}, 'ai_score': 1.9208617814831965}\n"
     ]
    },
    {
     "name": "stderr",
     "output_type": "stream",
     "text": [
      "knn_meta_recommender: INFO: len(ml_rec)=0, recommending random\n"
     ]
    },
    {
     "name": "stdout",
     "output_type": "stream",
     "text": [
      "Start iteration # 2\n",
      "{'dataset_id': 'c56787c9eecd053527dd6aa366505556abe20c2f22149b9805182618cfb0fb79', 'algorithm': 'MultinomialNB', 'parameters': {'alpha': 0.001, 'fit_prior': 'false'}, 'ai_score': nan}\n",
      "{'dataset_id': 'c56787c9eecd053527dd6aa366505556abe20c2f22149b9805182618cfb0fb79', 'algorithm': 'GradientBoostingClassifier', 'parameters': {'learning_rate': 0.01, 'max_depth': 3, 'max_features': 'sqrt', 'min_samples_leaf': 10, 'min_samples_split': 5, 'n_estimators': 100, 'subsample': 1}, 'ai_score': nan}\n"
     ]
    },
    {
     "name": "stderr",
     "output_type": "stream",
     "text": [
      "knn_meta_recommender: INFO: len(ml_rec)=0, recommending random\n"
     ]
    },
    {
     "name": "stdout",
     "output_type": "stream",
     "text": [
      "{'dataset_id': 'c56787c9eecd053527dd6aa366505556abe20c2f22149b9805182618cfb0fb79', 'algorithm': 'KNeighborsClassifier', 'parameters': {'n_neighbors': 5, 'weights': 'uniform', 'p': 2}, 'ai_score': nan}\n",
      "{'dataset_id': 'c56787c9eecd053527dd6aa366505556abe20c2f22149b9805182618cfb0fb79', 'algorithm': 'LinearSVC', 'parameters': {'C': 0.001, 'dual': 'false', 'loss': 'squared_hinge', 'penalty': 'l2', 'tol': 0.001}, 'ai_score': nan}\n",
      "{'dataset_id': 'c56787c9eecd053527dd6aa366505556abe20c2f22149b9805182618cfb0fb79', 'algorithm': 'SVC', 'parameters': {'C': 0.001, 'coef0': 0.001, 'degree': 3, 'gamma': 1, 'kernel': 'rbf', 'tol': 0.01}, 'ai_score': nan}\n",
      "Start iteration # 3\n",
      "{'dataset_id': 'c56787c9eecd053527dd6aa366505556abe20c2f22149b9805182618cfb0fb79', 'algorithm': 'BernoulliNB', 'parameters': {'alpha': 100, 'binarize': 0, 'fit_prior': 'true'}, 'ai_score': nan}\n",
      "{'dataset_id': 'c56787c9eecd053527dd6aa366505556abe20c2f22149b9805182618cfb0fb79', 'algorithm': 'LinearSVC', 'parameters': {'C': 100, 'dual': 'false', 'loss': 'squared_hinge', 'penalty': 'l2', 'tol': 0.1}, 'ai_score': nan}\n",
      "{'dataset_id': 'c56787c9eecd053527dd6aa366505556abe20c2f22149b9805182618cfb0fb79', 'algorithm': 'GaussianNB', 'parameters': {}, 'ai_score': nan}\n",
      "{'dataset_id': 'c56787c9eecd053527dd6aa366505556abe20c2f22149b9805182618cfb0fb79', 'algorithm': 'XGBClassifier', 'parameters': {'learning_rate': 1, 'max_depth': 1, 'min_child_weight': 5, 'n_estimators': 100, 'subsample': 0.5}, 'ai_score': nan}\n"
     ]
    },
    {
     "name": "stderr",
     "output_type": "stream",
     "text": [
      "knn_meta_recommender: INFO: len(ml_rec)=0, recommending random\n"
     ]
    },
    {
     "name": "stdout",
     "output_type": "stream",
     "text": [
      "{'dataset_id': 'c56787c9eecd053527dd6aa366505556abe20c2f22149b9805182618cfb0fb79', 'algorithm': 'DecisionTreeClassifier', 'parameters': {'criterion': 'gini', 'max_depth': 3, 'max_features': 'log2', 'min_samples_leaf': 20, 'min_samples_split': 2, 'min_weight_fraction_leaf': 0.25}, 'ai_score': nan}\n",
      "Start iteration # 4\n",
      "{'dataset_id': 'c56787c9eecd053527dd6aa366505556abe20c2f22149b9805182618cfb0fb79', 'algorithm': 'KNeighborsClassifier', 'parameters': {'n_neighbors': 9, 'weights': 'distance', 'p': 2}, 'ai_score': nan}\n",
      "{'dataset_id': 'c56787c9eecd053527dd6aa366505556abe20c2f22149b9805182618cfb0fb79', 'algorithm': 'GradientBoostingClassifier', 'parameters': {'learning_rate': 1, 'max_depth': 1, 'max_features': 'log2', 'min_samples_leaf': 1, 'min_samples_split': 5, 'n_estimators': 500, 'subsample': 1}, 'ai_score': nan}\n",
      "{'dataset_id': 'c56787c9eecd053527dd6aa366505556abe20c2f22149b9805182618cfb0fb79', 'algorithm': 'LogisticRegression', 'parameters': {'C': 10, 'dual': 'false', 'fit_intercept': 'false', 'penalty': 'l1'}, 'ai_score': nan}\n",
      "{'dataset_id': 'c56787c9eecd053527dd6aa366505556abe20c2f22149b9805182618cfb0fb79', 'algorithm': 'MultinomialNB', 'parameters': {'alpha': 100, 'fit_prior': 'false'}, 'ai_score': nan}\n",
      "{'dataset_id': 'c56787c9eecd053527dd6aa366505556abe20c2f22149b9805182618cfb0fb79', 'algorithm': 'GradientBoostingClassifier', 'parameters': {'learning_rate': 0.01, 'max_depth': 3, 'max_features': 'log2', 'min_samples_leaf': 10, 'min_samples_split': 10, 'n_estimators': 100, 'subsample': 1}, 'ai_score': nan}\n"
     ]
    },
    {
     "name": "stderr",
     "output_type": "stream",
     "text": [
      "knn_meta_recommender: INFO: len(ml_rec)=0, recommending random\n"
     ]
    },
    {
     "name": "stdout",
     "output_type": "stream",
     "text": [
      "Start iteration # 5\n",
      "{'dataset_id': 'c56787c9eecd053527dd6aa366505556abe20c2f22149b9805182618cfb0fb79', 'algorithm': 'DecisionTreeClassifier', 'parameters': {'criterion': 'gini', 'max_depth': 10, 'max_features': 'log2', 'min_samples_leaf': 20, 'min_samples_split': 20, 'min_weight_fraction_leaf': 0.25}, 'ai_score': nan}\n",
      "{'dataset_id': 'c56787c9eecd053527dd6aa366505556abe20c2f22149b9805182618cfb0fb79', 'algorithm': 'DecisionTreeClassifier', 'parameters': {'criterion': 'gini', 'max_depth': 3, 'max_features': 'None', 'min_samples_leaf': 10, 'min_samples_split': 20, 'min_weight_fraction_leaf': 0.45}, 'ai_score': nan}\n",
      "{'dataset_id': 'c56787c9eecd053527dd6aa366505556abe20c2f22149b9805182618cfb0fb79', 'algorithm': 'ExtraTreesClassifier', 'parameters': {'bootstrap': 'true', 'criterion': 'entropy', 'max_features': 'sqrt', 'min_samples_leaf': 10, 'min_samples_split': 10, 'n_estimators': 500}, 'ai_score': nan}\n",
      "{'dataset_id': 'c56787c9eecd053527dd6aa366505556abe20c2f22149b9805182618cfb0fb79', 'algorithm': 'DecisionTreeClassifier', 'parameters': {'criterion': 'entropy', 'max_depth': 3, 'max_features': 'log2', 'min_samples_leaf': 5, 'min_samples_split': 20, 'min_weight_fraction_leaf': 0.45}, 'ai_score': nan}\n",
      "{'dataset_id': 'c56787c9eecd053527dd6aa366505556abe20c2f22149b9805182618cfb0fb79', 'algorithm': 'BernoulliNB', 'parameters': {'alpha': 0.01, 'binarize': 0.75, 'fit_prior': 'false'}, 'ai_score': nan}\n"
     ]
    },
    {
     "data": {
      "text/plain": [
       "PennAIClassifier(kb_metafeatures='data/knowledgebases/pmlb_classification_metafeatures.csv.gz',\n",
       "                 knowledgebase='data/knowledgebases/sklearn-benchmark-data-knowledgebase-r6.tsv.gz',\n",
       "                 max_time=50, ml_p_file=None, n_iters=5, n_recs=5,\n",
       "                 rec_class=<class 'ai.recommender.knn_meta_recommender.KNNMetaRecommender'>,\n",
       "                 scoring=None, term_condition='n_recs x n_iters', verbose=True,\n",
       "                 warm_start=False)"
      ]
     },
     "execution_count": 1,
     "metadata": {},
     "output_type": "execute_result"
    }
   ],
   "source": [
    "from ai.pennai_sklearn import PennAIClassifier\n",
    "from sklearn.datasets import load_iris\n",
    "from sklearn.model_selection import train_test_split\n",
    "import numpy as np\n",
    "from ai.recommender.knn_meta_recommender import KNNMetaRecommender\n",
    "\n",
    "iris = load_iris()\n",
    "X_train, X_test, y_train, y_test = train_test_split(iris.data.astype(np.float64),\n",
    "    iris.target.astype(np.float64), train_size=0.75, test_size=0.25, random_state=42)\n",
    "\n",
    "pennai = PennAIClassifier(\n",
    "                        rec_class=KNNMetaRecommender,\n",
    "                        n_recs=5,\n",
    "                        n_iters=5,\n",
    "                        knowledgebase=\"data/knowledgebases/sklearn-benchmark-data-knowledgebase-r6.tsv.gz\",\n",
    "                        kb_metafeatures=\"data/knowledgebases/pmlb_classification_metafeatures.csv.gz\",\n",
    "                       )\n",
    "pennai.fit(X_train, y_train)\n"
   ]
  },
  {
   "cell_type": "code",
   "execution_count": null,
   "metadata": {},
   "outputs": [],
   "source": []
  },
  {
   "cell_type": "code",
   "execution_count": 2,
   "metadata": {},
   "outputs": [
    {
     "name": "stdout",
     "output_type": "stream",
     "text": [
      "0.9736842105263158\n"
     ]
    }
   ],
   "source": [
    "print(pennai.score(X_test, y_test))"
   ]
  },
  {
   "cell_type": "code",
   "execution_count": null,
   "metadata": {},
   "outputs": [],
   "source": []
  },
  {
   "cell_type": "code",
   "execution_count": null,
   "metadata": {},
   "outputs": [],
   "source": []
  }
 ],
 "metadata": {
  "kernelspec": {
   "display_name": "Python 3",
   "language": "python",
   "name": "python3"
  },
  "language_info": {
   "codemirror_mode": {
    "name": "ipython",
    "version": 3
   },
   "file_extension": ".py",
   "mimetype": "text/x-python",
   "name": "python",
   "nbconvert_exporter": "python",
   "pygments_lexer": "ipython3",
   "version": "3.7.3"
  }
 },
 "nbformat": 4,
 "nbformat_minor": 2
}
