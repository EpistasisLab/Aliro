{
 "cells": [
  {
   "cell_type": "code",
   "execution_count": 9,
   "metadata": {},
   "outputs": [
    {
     "name": "stdout",
     "output_type": "stream",
     "text": [
      "{'DecisionTreeClassifier': {'criterion': ['entropy', 'gini'], 'max_depth': [2, 4, 6, 8], 'min_samples_leaf': [10, 20, 5], 'min_samples_split': [10, 20, 5]}, 'GradientBoostingClassifier': {'learning_rate': [0.01, 0.1, 1], 'max_depth': [1, 10, 5], 'max_features': ['log2', 'sqrt'], 'min_samples_leaf': [10, 20, 5], 'min_samples_split': [10, 20, 5], 'n_estimators': [100, 250], 'subsample': [0.5, 1]}, 'KNeighborsClassifier': {'n_neighbors': [1, 11, 3, 5, 7, 9], 'p': [1, 2], 'weights': ['distance', 'uniform']}, 'LogisticRegression': {'C': [0.0001, 0.001, 0.01, 0.1, 0.5, 1, 10, 25], 'dual': ['false', 'true'], 'penalty': ['l1', 'l2']}, 'RandomForestClassifier': {'bootstrap': ['false', 'true'], 'criterion': ['entropy', 'gini'], 'max_features': ['log2', 'sqrt'], 'min_samples_leaf': [10, 20, 5], 'min_samples_split': [10, 20, 5], 'n_estimators': [100, 250]}, 'SVC': {'C': [0.0001, 0.001, 0.01, 0.1, 0.5, 1, 10, 25], 'kernel': ['poly', 'rbf'], 'tol': [0.0001, 0.001, 0.01, 0.1, 1e-05]}}\n"
     ]
    }
   ],
   "source": [
    "import pandas as pd\n",
    "import numpy as np\n",
    "# # set up dictionaries of parameter options for each learner\n",
    "param_opts = {\n",
    "    'DecisionTreeClassifier': {},\n",
    "    'GradientBoostingClassifier': {},\n",
    "    'KNeighborsClassifier': {},\n",
    "    'LogisticRegression': {},\n",
    "    'RandomForestClassifier': {},\n",
    "    'SVC': {}\n",
    "}\n",
    "ml_p = pd.read_csv('ml_p_options.csv')\n",
    "ml_p.rename(columns={'alg_name':'classifier'},inplace=True)\n",
    "for ml, df_ml in ml_p.groupby('classifier'):\n",
    "    for p, df_ml_p in df_ml.groupby('parameters'):\n",
    "        d = eval(p)\n",
    "        for keys,v in d.items():\n",
    "            if keys not in param_opts[ml].keys():\n",
    "                param_opts[ml][keys] = [v]\n",
    "            elif v not in param_opts[ml][keys]:\n",
    "                param_opts[ml][keys].append(v)\n",
    "print(param_opts)"
   ]
  },
  {
   "cell_type": "code",
   "execution_count": 10,
   "metadata": {
    "scrolled": true
   },
   "outputs": [
    {
     "name": "stdout",
     "output_type": "stream",
     "text": [
      "                                       dataset              classifier  \\\n",
      "0  AAA_bench_mod_4_up_down_dt_gb_score_0-36112  DecisionTreeClassifier   \n",
      "1  AAA_bench_mod_4_up_down_dt_gb_score_0-36112  DecisionTreeClassifier   \n",
      "2  AAA_bench_mod_4_up_down_dt_gb_score_0-36112  DecisionTreeClassifier   \n",
      "3  AAA_bench_mod_4_up_down_dt_gb_score_0-36112  DecisionTreeClassifier   \n",
      "4  AAA_bench_mod_4_up_down_dt_gb_score_0-36112  DecisionTreeClassifier   \n",
      "\n",
      "                                          parameters  accuracy   macrof1  \\\n",
      "0  min_impurity_decrease=0.0,max_features=0.1,cri...     0.549  0.548899   \n",
      "1  min_impurity_decrease=0.0,max_features=0.1,cri...     0.554  0.554000   \n",
      "2  min_impurity_decrease=0.0,max_features=0.25,cr...     0.567  0.566989   \n",
      "3  min_impurity_decrease=0.0,max_features=0.25,cr...     0.556  0.555956   \n",
      "4  min_impurity_decrease=0.0,max_features=0.5,cri...     0.751  0.750868   \n",
      "\n",
      "   bal_accuracy  \n",
      "0         0.549  \n",
      "1         0.554  \n",
      "2         0.567  \n",
      "3         0.556  \n",
      "4         0.751  \n",
      "loaded  131 datasets and  5 classifiers\n",
      "datasets ( 131 )\n",
      "classifiers ( 5 ): ['DecisionTreeClassifier' 'GradientBoostingClassifier'\n",
      " 'LogisticRegression' 'RandomForestClassifier' 'SVC']\n",
      "parameters for  DecisionTreeClassifier ( 36680 ): ['min_impurity_decrease=0.0,max_features=0.1,criterion=gini,random_state=2383'\n",
      " 'min_impurity_decrease=0.0,max_features=0.1,criterion=entropy,random_state=2383'\n",
      " 'min_impurity_decrease=0.0,max_features=0.25,criterion=gini,random_state=2383'\n",
      " 'min_impurity_decrease=0.0,max_features=0.25,criterion=entropy,random_state=2383'\n",
      " 'min_impurity_decrease=0.0,max_features=0.5,criterion=gini,random_state=2383']\n",
      "parameters for  GradientBoostingClassifier ( 58950 ): ['n_estimators=10,min_impurity_decrease=0.0,max_features=sqrt,learning_rate=0.01,loss=deviance,random_state=2383'\n",
      " 'n_estimators=10,min_impurity_decrease=0.0,max_features=sqrt,learning_rate=0.01,loss=exponential,random_state=2383'\n",
      " 'n_estimators=10,min_impurity_decrease=0.0,max_features=sqrt,learning_rate=0.1,loss=deviance,random_state=2383'\n",
      " 'n_estimators=10,min_impurity_decrease=0.0,max_features=sqrt,learning_rate=0.1,loss=exponential,random_state=2383'\n",
      " 'n_estimators=10,min_impurity_decrease=0.0,max_features=sqrt,learning_rate=1.0,loss=deviance,random_state=2383']\n",
      "parameters for  LogisticRegression ( 31440 ): ['C=0.5,penalty=l1,fit_intercept=True,dual=False,random_state=2383'\n",
      " 'C=0.5,penalty=l1,fit_intercept=False,dual=False,random_state=2383'\n",
      " 'C=0.5,penalty=l2,fit_intercept=True,dual=True,random_state=2383'\n",
      " 'C=0.5,penalty=l2,fit_intercept=True,dual=False,random_state=2383'\n",
      " 'C=0.5,penalty=l2,fit_intercept=False,dual=True,random_state=2383']\n",
      "parameters for  RandomForestClassifier ( 11790 ): ['n_estimators=10,min_impurity_decrease=0.0,max_features=sqrt,criterion=gini,random_state=21490'\n",
      " 'n_estimators=10,min_impurity_decrease=0.0,max_features=sqrt,criterion=entropy,random_state=21490'\n",
      " 'n_estimators=10,min_impurity_decrease=0.0,max_features=log2,criterion=gini,random_state=21490'\n",
      " 'n_estimators=10,min_impurity_decrease=0.0,max_features=log2,criterion=entropy,random_state=21490'\n",
      " 'n_estimators=10,min_impurity_decrease=0.0,max_features=None,criterion=gini,random_state=21490']\n",
      "parameters for  SVC ( 41191 ): ['C=0.01,gamma=0.01,kernel=poly,degree=2,coef0=0.0,random_state=2383'\n",
      " 'C=0.01,gamma=0.01,kernel=poly,degree=2,coef0=0.1,random_state=2383'\n",
      " 'C=0.01,gamma=0.01,kernel=poly,degree=2,coef0=0.5,random_state=2383'\n",
      " 'C=0.01,gamma=0.01,kernel=poly,degree=2,coef0=1.0,random_state=2383'\n",
      " 'C=0.01,gamma=0.01,kernel=poly,degree=2,coef0=10.0,random_state=2383']\n"
     ]
    }
   ],
   "source": [
    "import pandas as pd\n",
    "import numpy as np\n",
    "\n",
    "data = pd.read_csv('hibachi_combined_results_correct_datasets.csv.gz') \n",
    "print(data.head())\n",
    "data['accuracy'] = data['accuracy'].apply(lambda x: round(x, 3))\n",
    "print('loaded ',data['dataset'].unique().shape[0],'datasets and ', data['classifier'].unique().shape[0],'classifiers')\n",
    "# subset data to classifiers used in PennAI\n",
    "# pennai_classifiers = ['LogisticRegression', 'RandomForestClassifier', 'SVC', \n",
    "#                       'KNeighborsClassifier', 'DecisionTreeClassifier', 'GradientBoostingClassifier']\n",
    "# mask = np.array([c in pennai_classifiers for c in data['classifier'].values])\n",
    "# data = data.loc[mask,:]\n",
    "print('datasets (',len(data['dataset'].unique()),')')\n",
    "print('classifiers (',len(data['classifier'].unique()),'):',data['classifier'].unique())\n",
    "for ml, df_g in data.groupby('classifier'):\n",
    "    print('parameters for ',ml,'(',len(df_g['parameters'].unique()),'):',df_g['parameters'].unique()[:5])\n"
   ]
  },
  {
   "cell_type": "code",
   "execution_count": 11,
   "metadata": {},
   "outputs": [],
   "source": [
    "from collections import OrderedDict\n",
    "\n",
    "def convert_params(params):\n",
    "    \"\"\"convert from sklearn-style parameter formatting to dictionary, PennAI style.\"\"\"\n",
    "    pdict = {}\n",
    "    for kv in params.split(','):\n",
    "        if len(kv)==0: continue\n",
    "        if 'random_state' in kv: continue\n",
    "#         print(kv.split('='))\n",
    "        pdict[str(kv.split('=')[0])] = kv.split('=')[1]\n",
    "    for k,v in pdict.items():\n",
    "        try:\n",
    "            pdict[k] = int(v)\n",
    "        except ValueError:\n",
    "            try:     \n",
    "                pdict[k] = float(v)\n",
    "            except ValueError:\n",
    "                pass\n",
    "\n",
    "    return OrderedDict(sorted(pdict.items()))\n",
    "\n",
    "\n",
    "data['parameters'] = data['parameters'].apply(lambda x: convert_params(x))"
   ]
  },
  {
   "cell_type": "code",
   "execution_count": 12,
   "metadata": {},
   "outputs": [
    {
     "name": "stdout",
     "output_type": "stream",
     "text": [
      "example parameters for  DecisionTreeClassifier ( 280 ): OrderedDict([('criterion', 'gini'), ('max_features', 0.1), ('min_impurity_decrease', 0.0)])\n",
      "example parameters for  GradientBoostingClassifier ( 450 ): OrderedDict([('learning_rate', 0.01), ('loss', 'deviance'), ('max_features', 'sqrt'), ('min_impurity_decrease', 0.0), ('n_estimators', 10)])\n",
      "example parameters for  LogisticRegression ( 240 ): OrderedDict([('C', 0.5), ('dual', 'False'), ('fit_intercept', 'True'), ('penalty', 'l1')])\n",
      "example parameters for  RandomForestClassifier ( 90 ): OrderedDict([('criterion', 'gini'), ('max_features', 'sqrt'), ('min_impurity_decrease', 0.0), ('n_estimators', 10)])\n",
      "example parameters for  SVC ( 1188 ): OrderedDict([('C', 0.01), ('coef0', 0.0), ('degree', 2), ('gamma', 0.01), ('kernel', 'poly')])\n"
     ]
    }
   ],
   "source": [
    "for ml, df_g in data.groupby('classifier'):\n",
    "    print('example parameters for ',ml,'(',len(df_g['parameters'].apply(str).unique()),'):',\n",
    "           df_g['parameters'].apply(str).unique()[0])"
   ]
  },
  {
   "cell_type": "code",
   "execution_count": 17,
   "metadata": {
    "scrolled": true
   },
   "outputs": [],
   "source": [
    "def valid_param_combo(ml,params):\n",
    "#     print('ml',ml,type(ml).__name__)\n",
    "#     print('params',params,type(params).__name__)\n",
    "#     params = eval(params)\n",
    "    for k,v in params.items():\n",
    "        if k in param_opts[ml].keys():\n",
    "            if type(param_opts[ml][k][0]) is int:\n",
    "                try:\n",
    "                    if int(v) not in param_opts[ml][k]:\n",
    "                        return False\n",
    "                except: \n",
    "                    return False\n",
    "            elif type(param_opts[ml][k][0]) is float:\n",
    "                try:\n",
    "                    if float(v) not in param_opts[ml][k]:\n",
    "                        return False\n",
    "                except: \n",
    "                    return False\n",
    "            elif v not in param_opts[ml][k]:\n",
    "                return False\n",
    "    return True\n",
    "\n",
    "mask = [valid_param_combo(row['classifier'],row['parameters']) for _, row in data.iterrows()]\n",
    "mask = mask | (data.classifier=='LogisticRegression')\n",
    "data_filtered = data.loc[mask]\n",
    "\n",
    "# data_filtered = data.loc[lambda x: valid_param_combo(i['classifier'],i['parameters']) for i in x]\n"
   ]
  },
  {
   "cell_type": "code",
   "execution_count": 18,
   "metadata": {},
   "outputs": [
    {
     "name": "stdout",
     "output_type": "stream",
     "text": [
      "example parameters for  DecisionTreeClassifier ( 280 ): OrderedDict([('criterion', 'gini'), ('max_features', 0.1), ('min_impurity_decrease', 0.0)])\n",
      "example parameters for  GradientBoostingClassifier ( 60 ): OrderedDict([('learning_rate', 0.01), ('loss', 'deviance'), ('max_features', 'sqrt'), ('min_impurity_decrease', 0.0), ('n_estimators', 100)])\n",
      "example parameters for  LogisticRegression ( 240 ): OrderedDict([('C', 0.5), ('dual', 'False'), ('fit_intercept', 'True'), ('penalty', 'l1')])\n",
      "example parameters for  RandomForestClassifier ( 20 ): OrderedDict([('criterion', 'gini'), ('max_features', 'sqrt'), ('min_impurity_decrease', 0.0), ('n_estimators', 100)])\n",
      "example parameters for  SVC ( 600 ): OrderedDict([('C', 0.01), ('coef0', 0.0), ('degree', 2), ('gamma', 0.01), ('kernel', 'poly')])\n"
     ]
    }
   ],
   "source": [
    "for ml, df_g in data_filtered.groupby('classifier'):\n",
    "    print('example parameters for ',ml,'(',len(df_g['parameters'].apply(str).unique()),'):',\n",
    "           df_g['parameters'].apply(str).unique()[0])"
   ]
  },
  {
   "cell_type": "code",
   "execution_count": 19,
   "metadata": {},
   "outputs": [
    {
     "data": {
      "text/plain": [
       "{'C': [0.0001, 0.001, 0.01, 0.1, 0.5, 1, 10, 25],\n",
       " 'dual': ['false', 'true'],\n",
       " 'penalty': ['l1', 'l2']}"
      ]
     },
     "execution_count": 19,
     "metadata": {},
     "output_type": "execute_result"
    }
   ],
   "source": [
    "param_opts['LogisticRegression']"
   ]
  },
  {
   "cell_type": "code",
   "execution_count": 21,
   "metadata": {},
   "outputs": [
    {
     "data": {
      "text/html": [
       "<div>\n",
       "<style scoped>\n",
       "    .dataframe tbody tr th:only-of-type {\n",
       "        vertical-align: middle;\n",
       "    }\n",
       "\n",
       "    .dataframe tbody tr th {\n",
       "        vertical-align: top;\n",
       "    }\n",
       "\n",
       "    .dataframe thead th {\n",
       "        text-align: right;\n",
       "    }\n",
       "</style>\n",
       "<table border=\"1\" class=\"dataframe\">\n",
       "  <thead>\n",
       "    <tr style=\"text-align: right;\">\n",
       "      <th></th>\n",
       "      <th>dataset</th>\n",
       "      <th>classifier</th>\n",
       "      <th>parameters</th>\n",
       "      <th>accuracy</th>\n",
       "      <th>macrof1</th>\n",
       "      <th>bal_accuracy</th>\n",
       "    </tr>\n",
       "  </thead>\n",
       "  <tbody>\n",
       "    <tr>\n",
       "      <th>0</th>\n",
       "      <td>AAA_bench_mod_4_up_down_dt_gb_score_0-36112</td>\n",
       "      <td>DecisionTreeClassifier</td>\n",
       "      <td>{'criterion': 'gini', 'max_features': 0.1, 'mi...</td>\n",
       "      <td>0.549</td>\n",
       "      <td>0.548899</td>\n",
       "      <td>0.549</td>\n",
       "    </tr>\n",
       "    <tr>\n",
       "      <th>1</th>\n",
       "      <td>AAA_bench_mod_4_up_down_dt_gb_score_0-36112</td>\n",
       "      <td>DecisionTreeClassifier</td>\n",
       "      <td>{'criterion': 'entropy', 'max_features': 0.1, ...</td>\n",
       "      <td>0.554</td>\n",
       "      <td>0.554000</td>\n",
       "      <td>0.554</td>\n",
       "    </tr>\n",
       "    <tr>\n",
       "      <th>2</th>\n",
       "      <td>AAA_bench_mod_4_up_down_dt_gb_score_0-36112</td>\n",
       "      <td>DecisionTreeClassifier</td>\n",
       "      <td>{'criterion': 'gini', 'max_features': 0.25, 'm...</td>\n",
       "      <td>0.567</td>\n",
       "      <td>0.566989</td>\n",
       "      <td>0.567</td>\n",
       "    </tr>\n",
       "    <tr>\n",
       "      <th>3</th>\n",
       "      <td>AAA_bench_mod_4_up_down_dt_gb_score_0-36112</td>\n",
       "      <td>DecisionTreeClassifier</td>\n",
       "      <td>{'criterion': 'entropy', 'max_features': 0.25,...</td>\n",
       "      <td>0.556</td>\n",
       "      <td>0.555956</td>\n",
       "      <td>0.556</td>\n",
       "    </tr>\n",
       "    <tr>\n",
       "      <th>4</th>\n",
       "      <td>AAA_bench_mod_4_up_down_dt_gb_score_0-36112</td>\n",
       "      <td>DecisionTreeClassifier</td>\n",
       "      <td>{'criterion': 'gini', 'max_features': 0.5, 'mi...</td>\n",
       "      <td>0.751</td>\n",
       "      <td>0.750868</td>\n",
       "      <td>0.751</td>\n",
       "    </tr>\n",
       "  </tbody>\n",
       "</table>\n",
       "</div>"
      ],
      "text/plain": [
       "                                       dataset              classifier  \\\n",
       "0  AAA_bench_mod_4_up_down_dt_gb_score_0-36112  DecisionTreeClassifier   \n",
       "1  AAA_bench_mod_4_up_down_dt_gb_score_0-36112  DecisionTreeClassifier   \n",
       "2  AAA_bench_mod_4_up_down_dt_gb_score_0-36112  DecisionTreeClassifier   \n",
       "3  AAA_bench_mod_4_up_down_dt_gb_score_0-36112  DecisionTreeClassifier   \n",
       "4  AAA_bench_mod_4_up_down_dt_gb_score_0-36112  DecisionTreeClassifier   \n",
       "\n",
       "                                          parameters  accuracy   macrof1  \\\n",
       "0  {'criterion': 'gini', 'max_features': 0.1, 'mi...     0.549  0.548899   \n",
       "1  {'criterion': 'entropy', 'max_features': 0.1, ...     0.554  0.554000   \n",
       "2  {'criterion': 'gini', 'max_features': 0.25, 'm...     0.567  0.566989   \n",
       "3  {'criterion': 'entropy', 'max_features': 0.25,...     0.556  0.555956   \n",
       "4  {'criterion': 'gini', 'max_features': 0.5, 'mi...     0.751  0.750868   \n",
       "\n",
       "   bal_accuracy  \n",
       "0         0.549  \n",
       "1         0.554  \n",
       "2         0.567  \n",
       "3         0.556  \n",
       "4         0.751  "
      ]
     },
     "execution_count": 21,
     "metadata": {},
     "output_type": "execute_result"
    }
   ],
   "source": [
    "data_filtered.head()"
   ]
  },
  {
   "cell_type": "code",
   "execution_count": 22,
   "metadata": {},
   "outputs": [
    {
     "name": "stdout",
     "output_type": "stream",
     "text": [
      "data_filtered shape:  (105640, 6)\n",
      "datasets ( 131 )\n",
      "classifiers ( 5 ): ['DecisionTreeClassifier' 'GradientBoostingClassifier'\n",
      " 'LogisticRegression' 'RandomForestClassifier' 'SVC']\n",
      "parameters for  DecisionTreeClassifier ( 280 ): [\"OrderedDict([('criterion', 'gini'), ('max_features', 0.1), ('min_impurity_decrease', 0.0)])\"\n",
      " \"OrderedDict([('criterion', 'entropy'), ('max_features', 0.1), ('min_impurity_decrease', 0.0)])\"\n",
      " \"OrderedDict([('criterion', 'gini'), ('max_features', 0.25), ('min_impurity_decrease', 0.0)])\"\n",
      " \"OrderedDict([('criterion', 'entropy'), ('max_features', 0.25), ('min_impurity_decrease', 0.0)])\"\n",
      " \"OrderedDict([('criterion', 'gini'), ('max_features', 0.5), ('min_impurity_decrease', 0.0)])\"]\n",
      "parameters for  GradientBoostingClassifier ( 60 ): [\"OrderedDict([('learning_rate', 0.01), ('loss', 'deviance'), ('max_features', 'sqrt'), ('min_impurity_decrease', 0.0), ('n_estimators', 100)])\"\n",
      " \"OrderedDict([('learning_rate', 0.01), ('loss', 'exponential'), ('max_features', 'sqrt'), ('min_impurity_decrease', 0.0), ('n_estimators', 100)])\"\n",
      " \"OrderedDict([('learning_rate', 0.1), ('loss', 'deviance'), ('max_features', 'sqrt'), ('min_impurity_decrease', 0.0), ('n_estimators', 100)])\"\n",
      " \"OrderedDict([('learning_rate', 0.1), ('loss', 'exponential'), ('max_features', 'sqrt'), ('min_impurity_decrease', 0.0), ('n_estimators', 100)])\"\n",
      " \"OrderedDict([('learning_rate', 1.0), ('loss', 'deviance'), ('max_features', 'sqrt'), ('min_impurity_decrease', 0.0), ('n_estimators', 100)])\"]\n",
      "parameters for  LogisticRegression ( 240 ): [\"OrderedDict([('C', 0.5), ('dual', 'False'), ('fit_intercept', 'True'), ('penalty', 'l1')])\"\n",
      " \"OrderedDict([('C', 0.5), ('dual', 'False'), ('fit_intercept', 'False'), ('penalty', 'l1')])\"\n",
      " \"OrderedDict([('C', 0.5), ('dual', 'True'), ('fit_intercept', 'True'), ('penalty', 'l2')])\"\n",
      " \"OrderedDict([('C', 0.5), ('dual', 'False'), ('fit_intercept', 'True'), ('penalty', 'l2')])\"\n",
      " \"OrderedDict([('C', 0.5), ('dual', 'True'), ('fit_intercept', 'False'), ('penalty', 'l2')])\"]\n",
      "parameters for  RandomForestClassifier ( 20 ): [\"OrderedDict([('criterion', 'gini'), ('max_features', 'sqrt'), ('min_impurity_decrease', 0.0), ('n_estimators', 100)])\"\n",
      " \"OrderedDict([('criterion', 'entropy'), ('max_features', 'sqrt'), ('min_impurity_decrease', 0.0), ('n_estimators', 100)])\"\n",
      " \"OrderedDict([('criterion', 'gini'), ('max_features', 'log2'), ('min_impurity_decrease', 0.0), ('n_estimators', 100)])\"\n",
      " \"OrderedDict([('criterion', 'entropy'), ('max_features', 'log2'), ('min_impurity_decrease', 0.0), ('n_estimators', 100)])\"\n",
      " \"OrderedDict([('criterion', 'gini'), ('max_features', 'sqrt'), ('min_impurity_decrease', 0.001), ('n_estimators', 100)])\"]\n",
      "parameters for  SVC ( 600 ): [\"OrderedDict([('C', 0.01), ('coef0', 0.0), ('degree', 2), ('gamma', 0.01), ('kernel', 'poly')])\"\n",
      " \"OrderedDict([('C', 0.01), ('coef0', 0.1), ('degree', 2), ('gamma', 0.01), ('kernel', 'poly')])\"\n",
      " \"OrderedDict([('C', 0.01), ('coef0', 0.5), ('degree', 2), ('gamma', 0.01), ('kernel', 'poly')])\"\n",
      " \"OrderedDict([('C', 0.01), ('coef0', 1.0), ('degree', 2), ('gamma', 0.01), ('kernel', 'poly')])\"\n",
      " \"OrderedDict([('C', 0.01), ('coef0', 10.0), ('degree', 2), ('gamma', 0.01), ('kernel', 'poly')])\"]\n"
     ]
    }
   ],
   "source": [
    "print('data_filtered shape: ', data_filtered.shape)\n",
    "print('datasets (',len(data_filtered['dataset'].unique()),')')\n",
    "print('classifiers (',len(data_filtered['classifier'].unique()),'):',data_filtered['classifier'].unique())\n",
    "for ml, df_g in data_filtered.groupby('classifier'):\n",
    "    print('parameters for ',ml,'(',len(df_g['parameters'].apply(str).unique()),'):',\n",
    "           df_g['parameters'].apply(str).unique()[:5])"
   ]
  },
  {
   "cell_type": "markdown",
   "metadata": {},
   "source": [
    "# remove any algorithms that don't have results for all datasets"
   ]
  },
  {
   "cell_type": "code",
   "execution_count": 26,
   "metadata": {},
   "outputs": [
    {
     "name": "stdout",
     "output_type": "stream",
     "text": [
      "original size: 105640\n"
     ]
    },
    {
     "name": "stderr",
     "output_type": "stream",
     "text": [
      "/home/bill/anaconda3/lib/python3.6/site-packages/pandas/core/indexing.py:543: SettingWithCopyWarning: \n",
      "A value is trying to be set on a copy of a slice from a DataFrame.\n",
      "Try using .loc[row_indexer,col_indexer] = value instead\n",
      "\n",
      "See the caveats in the documentation: http://pandas.pydata.org/pandas-docs/stable/indexing.html#indexing-view-versus-copy\n",
      "  self.obj[item] = s\n"
     ]
    },
    {
     "name": "stdout",
     "output_type": "stream",
     "text": [
      "removing 13940 algorithm-parameter combinations\n",
      "new size: 91700\n"
     ]
    },
    {
     "name": "stderr",
     "output_type": "stream",
     "text": [
      "/home/bill/anaconda3/lib/python3.6/site-packages/pandas/core/frame.py:3694: SettingWithCopyWarning: \n",
      "A value is trying to be set on a copy of a slice from a DataFrame\n",
      "\n",
      "See the caveats in the documentation: http://pandas.pydata.org/pandas-docs/stable/indexing.html#indexing-view-versus-copy\n",
      "  errors=errors)\n"
     ]
    },
    {
     "data": {
      "text/html": [
       "<div>\n",
       "<style scoped>\n",
       "    .dataframe tbody tr th:only-of-type {\n",
       "        vertical-align: middle;\n",
       "    }\n",
       "\n",
       "    .dataframe tbody tr th {\n",
       "        vertical-align: top;\n",
       "    }\n",
       "\n",
       "    .dataframe thead th {\n",
       "        text-align: right;\n",
       "    }\n",
       "</style>\n",
       "<table border=\"1\" class=\"dataframe\">\n",
       "  <thead>\n",
       "    <tr style=\"text-align: right;\">\n",
       "      <th></th>\n",
       "      <th>dataset</th>\n",
       "      <th>parameters</th>\n",
       "      <th>accuracy</th>\n",
       "      <th>macrof1</th>\n",
       "      <th>bal_accuracy</th>\n",
       "    </tr>\n",
       "    <tr>\n",
       "      <th>classifier</th>\n",
       "      <th></th>\n",
       "      <th></th>\n",
       "      <th></th>\n",
       "      <th></th>\n",
       "      <th></th>\n",
       "    </tr>\n",
       "  </thead>\n",
       "  <tbody>\n",
       "    <tr>\n",
       "      <th>DecisionTreeClassifier</th>\n",
       "      <td>36680</td>\n",
       "      <td>36680</td>\n",
       "      <td>36680</td>\n",
       "      <td>36680</td>\n",
       "      <td>36680</td>\n",
       "    </tr>\n",
       "    <tr>\n",
       "      <th>GradientBoostingClassifier</th>\n",
       "      <td>7860</td>\n",
       "      <td>7860</td>\n",
       "      <td>7860</td>\n",
       "      <td>7860</td>\n",
       "      <td>7860</td>\n",
       "    </tr>\n",
       "    <tr>\n",
       "      <th>LogisticRegression</th>\n",
       "      <td>31440</td>\n",
       "      <td>31440</td>\n",
       "      <td>31440</td>\n",
       "      <td>31440</td>\n",
       "      <td>31440</td>\n",
       "    </tr>\n",
       "    <tr>\n",
       "      <th>RandomForestClassifier</th>\n",
       "      <td>2620</td>\n",
       "      <td>2620</td>\n",
       "      <td>2620</td>\n",
       "      <td>2620</td>\n",
       "      <td>2620</td>\n",
       "    </tr>\n",
       "    <tr>\n",
       "      <th>SVC</th>\n",
       "      <td>13100</td>\n",
       "      <td>13100</td>\n",
       "      <td>13100</td>\n",
       "      <td>13100</td>\n",
       "      <td>13100</td>\n",
       "    </tr>\n",
       "  </tbody>\n",
       "</table>\n",
       "</div>"
      ],
      "text/plain": [
       "                            dataset  parameters  accuracy  macrof1  \\\n",
       "classifier                                                           \n",
       "DecisionTreeClassifier        36680       36680     36680    36680   \n",
       "GradientBoostingClassifier     7860        7860      7860     7860   \n",
       "LogisticRegression            31440       31440     31440    31440   \n",
       "RandomForestClassifier         2620        2620      2620     2620   \n",
       "SVC                           13100       13100     13100    13100   \n",
       "\n",
       "                            bal_accuracy  \n",
       "classifier                                \n",
       "DecisionTreeClassifier             36680  \n",
       "GradientBoostingClassifier          7860  \n",
       "LogisticRegression                 31440  \n",
       "RandomForestClassifier              2620  \n",
       "SVC                                13100  "
      ]
     },
     "execution_count": 26,
     "metadata": {},
     "output_type": "execute_result"
    }
   ],
   "source": [
    "clean_data = data_filtered\n",
    "print('original size:',len(clean_data))\n",
    "clean_data.loc[:, 'algorithm-parameters'] = (                                             \n",
    "                                       clean_data['classifier'].values + '|' +                     \n",
    "                                       clean_data['parameters'].apply(str).values) \n",
    "all_datasets = np.unique(clean_data['dataset'].values)\n",
    "algp_toremove = []\n",
    "for algp, group in clean_data.groupby('algorithm-parameters'):\n",
    "    if (group['dataset'].count()<len(all_datasets)):\n",
    "        #print(algp, '\\n\\t is missing results for', [d for d in all_datasets if d not in np.unique(group['dataset'])])\n",
    "        #print('removing',algp)\n",
    "        algp_toremove.append(algp)\n",
    "        \n",
    "mask = np.array([ap not in algp_toremove for ap in clean_data['algorithm-parameters'].values])\n",
    "print('removing',np.sum(~mask),'algorithm-parameter combinations')\n",
    "clean_data = clean_data.loc[mask,:]\n",
    "print('new size:',len(clean_data))\n",
    "clean_data.drop('algorithm-parameters',axis=1,inplace=True)\n",
    "\n",
    "clean_data.groupby('classifier').count()"
   ]
  },
  {
   "cell_type": "code",
   "execution_count": 27,
   "metadata": {
    "scrolled": true
   },
   "outputs": [
    {
     "name": "stdout",
     "output_type": "stream",
     "text": [
      "example parameters for  DecisionTreeClassifier ( 280 ): OrderedDict([('criterion', 'gini'), ('max_features', 0.1), ('min_impurity_decrease', 0.0)])\n",
      "example parameters for  GradientBoostingClassifier ( 60 ): OrderedDict([('learning_rate', 0.01), ('loss', 'deviance'), ('max_features', 'sqrt'), ('min_impurity_decrease', 0.0), ('n_estimators', 100)])\n",
      "example parameters for  LogisticRegression ( 240 ): OrderedDict([('C', 0.5), ('dual', 'False'), ('fit_intercept', 'True'), ('penalty', 'l1')])\n",
      "example parameters for  RandomForestClassifier ( 20 ): OrderedDict([('criterion', 'gini'), ('max_features', 'sqrt'), ('min_impurity_decrease', 0.0), ('n_estimators', 100)])\n",
      "example parameters for  SVC ( 100 ): OrderedDict([('C', 0.01), ('coef0', 0.0), ('degree', 2), ('gamma', 0.01), ('kernel', 'poly')])\n"
     ]
    }
   ],
   "source": [
    "for ml, df_g in clean_data.groupby('classifier'):\n",
    "    print('example parameters for ',ml,'(',len(df_g['parameters'].apply(str).unique()),'):',\n",
    "           df_g['parameters'].apply(str).unique()[0])"
   ]
  },
  {
   "cell_type": "markdown",
   "metadata": {},
   "source": [
    "# calculate ranks"
   ]
  },
  {
   "cell_type": "code",
   "execution_count": 28,
   "metadata": {},
   "outputs": [
    {
     "name": "stderr",
     "output_type": "stream",
     "text": [
      "/home/bill/anaconda3/lib/python3.6/site-packages/ipykernel_launcher.py:2: SettingWithCopyWarning: \n",
      "A value is trying to be set on a copy of a slice from a DataFrame.\n",
      "Try using .loc[row_indexer,col_indexer] = value instead\n",
      "\n",
      "See the caveats in the documentation: http://pandas.pydata.org/pandas-docs/stable/indexing.html#indexing-view-versus-copy\n",
      "  \n",
      "/home/bill/anaconda3/lib/python3.6/site-packages/ipykernel_launcher.py:3: SettingWithCopyWarning: \n",
      "A value is trying to be set on a copy of a slice from a DataFrame.\n",
      "Try using .loc[row_indexer,col_indexer] = value instead\n",
      "\n",
      "See the caveats in the documentation: http://pandas.pydata.org/pandas-docs/stable/indexing.html#indexing-view-versus-copy\n",
      "  This is separate from the ipykernel package so we can avoid doing imports until\n",
      "/home/bill/anaconda3/lib/python3.6/site-packages/ipykernel_launcher.py:5: SettingWithCopyWarning: \n",
      "A value is trying to be set on a copy of a slice from a DataFrame.\n",
      "Try using .loc[row_indexer,col_indexer] = value instead\n",
      "\n",
      "See the caveats in the documentation: http://pandas.pydata.org/pandas-docs/stable/indexing.html#indexing-view-versus-copy\n",
      "  \"\"\"\n"
     ]
    }
   ],
   "source": [
    "clean_data['norm_score'] = clean_data.groupby('dataset')['bal_accuracy'].transform(\n",
    "                                                                lambda x: (x - x.min()) / (x.max() - x.min()))\n",
    "clean_data['round_norm_score'] = clean_data['norm_score'].apply(lambda x: round(x,3))\n",
    "\n",
    "clean_data['ranking'] = clean_data.groupby('dataset')['round_norm_score'].rank(ascending=False,method='dense')"
   ]
  },
  {
   "cell_type": "code",
   "execution_count": 46,
   "metadata": {},
   "outputs": [
    {
     "data": {
      "text/plain": [
       "<matplotlib.legend.Legend at 0x7fc77645e5f8>"
      ]
     },
     "execution_count": 46,
     "metadata": {},
     "output_type": "execute_result"
    },
    {
     "data": {
      "image/png": "[encoded data removed]",
      "text/plain": [
       "<Figure size 432x288 with 1 Axes>"
      ]
     },
     "metadata": {},
     "output_type": "display_data"
    }
   ],
   "source": [
    "import matplotlib.pyplot as plt\n",
    "%matplotlib inline \n",
    "\n",
    "plt.figure()\n",
    "for clf, df in clean_data.groupby('algorithm'):\n",
    "    df['ranking'].hist(bins=int(len(clean_data['ranking'].unique())/2),histtype='step',label=clf,ax=plt.gca())\n",
    "#     plt.title(clf)\n",
    "plt.legend(loc=[1.01,0.5])"
   ]
  },
  {
   "cell_type": "markdown",
   "metadata": {},
   "source": [
    "# write modified data to file"
   ]
  },
  {
   "cell_type": "code",
   "execution_count": 34,
   "metadata": {},
   "outputs": [
    {
     "name": "stdout",
     "output_type": "stream",
     "text": [
      "Index(['dataset', 'algorithm', 'parameters', 'accuracy', 'macrof1',\n",
      "       'bal_accuracy', 'norm_score', 'round_norm_score', 'ranking'],\n",
      "      dtype='object')\n"
     ]
    },
    {
     "name": "stderr",
     "output_type": "stream",
     "text": [
      "/home/bill/anaconda3/lib/python3.6/site-packages/pandas/core/frame.py:3778: SettingWithCopyWarning: \n",
      "A value is trying to be set on a copy of a slice from a DataFrame\n",
      "\n",
      "See the caveats in the documentation: http://pandas.pydata.org/pandas-docs/stable/indexing.html#indexing-view-versus-copy\n",
      "  return super(DataFrame, self).rename(**kwargs)\n"
     ]
    }
   ],
   "source": [
    "print(clean_data.columns)\n",
    "clean_data.rename(columns={'classifier':'algorithm'},inplace=True)\n",
    "clean_data.to_csv('hibachi_combined_results_correct_datasets_mock_experiment.tsv.gz',compression='gzip',\n",
    "            index=False,\n",
    "            sep='\\t')"
   ]
  },
  {
   "cell_type": "code",
   "execution_count": null,
   "metadata": {},
   "outputs": [],
   "source": []
  },
  {
   "cell_type": "code",
   "execution_count": null,
   "metadata": {},
   "outputs": [],
   "source": []
  }
 ],
 "metadata": {
  "kernelspec": {
   "display_name": "Python 3",
   "language": "python",
   "name": "python3"
  },
  "language_info": {
   "codemirror_mode": {
    "name": "ipython",
    "version": 3
   },
   "file_extension": ".py",
   "mimetype": "text/x-python",
   "name": "python",
   "nbconvert_exporter": "python",
   "pygments_lexer": "ipython3",
   "version": "3.6.5"
  }
 },
 "nbformat": 4,
 "nbformat_minor": 2
}
