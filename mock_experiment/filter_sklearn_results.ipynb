{
 "cells": [
  {
   "cell_type": "code",
   "execution_count": 19,
   "metadata": {},
   "outputs": [
    {
     "name": "stdout",
     "output_type": "stream",
     "text": [
      "{'DecisionTreeClassifier': {'criterion': ['entropy', 'gini'], 'max_depth': [2, 4, 6, 8], 'min_samples_leaf': [10, 20, 5], 'min_samples_split': [10, 20, 5]}, 'GradientBoostingClassifier': {'learning_rate': [0.01, 0.1, 1], 'max_depth': [1, 10, 5], 'max_features': ['log2', 'sqrt'], 'min_samples_leaf': [10, 20, 5], 'min_samples_split': [10, 20, 5], 'n_estimators': [100, 250], 'subsample': [0.5, 1]}, 'KNeighborsClassifier': {'n_neighbors': [1, 11, 3, 5, 7, 9], 'p': [1, 2], 'weights': ['distance', 'uniform']}, 'LogisticRegression': {'C': [0.0001, 0.001, 0.01, 0.1, 0.5, 1, 10, 25], 'dual': ['false', 'true'], 'penalty': ['l1', 'l2']}, 'RandomForestClassifier': {'bootstrap': ['false', 'true'], 'criterion': ['entropy', 'gini'], 'max_features': ['log2', 'sqrt'], 'min_samples_leaf': [10, 20, 5], 'min_samples_split': [10, 20, 5], 'n_estimators': [100, 250]}, 'SVC': {'C': [0.0001, 0.001, 0.01, 0.1, 0.5, 1, 10, 25], 'kernel': ['poly', 'rbf'], 'tol': [0.0001, 0.001, 0.01, 0.1, 1e-05]}}\n"
     ]
    }
   ],
   "source": [
    "import pandas as pd\n",
    "import numpy as np\n",
    "# # set up dictionaries of parameter options for each learner\n",
    "param_opts = {\n",
    "    'DecisionTreeClassifier': {},\n",
    "    'GradientBoostingClassifier': {},\n",
    "    'KNeighborsClassifier': {},\n",
    "    'LogisticRegression': {},\n",
    "    'RandomForestClassifier': {},\n",
    "    'SVC': {}\n",
    "}\n",
    "ml_p = pd.read_csv('ml_p_options.csv')\n",
    "ml_p.rename(columns={'alg_name':'classifier'},inplace=True)\n",
    "for ml, df_ml in ml_p.groupby('classifier'):\n",
    "    for p, df_ml_p in df_ml.groupby('parameters'):\n",
    "        d = eval(p)\n",
    "        for keys,v in d.items():\n",
    "            if keys not in param_opts[ml].keys():\n",
    "                param_opts[ml][keys] = [v]\n",
    "            elif v not in param_opts[ml][keys]:\n",
    "                param_opts[ml][keys].append(v)\n",
    "print(param_opts)"
   ]
  },
  {
   "cell_type": "code",
   "execution_count": 20,
   "metadata": {},
   "outputs": [
    {
     "name": "stderr",
     "output_type": "stream",
     "text": [
      "/home/bill/anaconda3/lib/python3.6/site-packages/IPython/core/interactiveshell.py:2785: DtypeWarning: Columns (5) have mixed types. Specify dtype option on import or set low_memory=False.\n",
      "  interactivity=interactivity, compiler=compiler, result=result)\n"
     ]
    },
    {
     "name": "stdout",
     "output_type": "stream",
     "text": [
      "                                             dataset          classifier  \\\n",
      "0  GAMETES_Epistasis_2-Way_1000atts_0.4H_EDM-1_ED...  AdaBoostClassifier   \n",
      "1  GAMETES_Epistasis_2-Way_1000atts_0.4H_EDM-1_ED...  AdaBoostClassifier   \n",
      "2  GAMETES_Epistasis_2-Way_1000atts_0.4H_EDM-1_ED...  AdaBoostClassifier   \n",
      "3  GAMETES_Epistasis_2-Way_1000atts_0.4H_EDM-1_ED...  AdaBoostClassifier   \n",
      "4  GAMETES_Epistasis_2-Way_1000atts_0.4H_EDM-1_ED...  AdaBoostClassifier   \n",
      "\n",
      "                             parameters  accuracy   macrof1 bal_accuracy  \n",
      "0    learning_rate=0.01,n_estimators=10  0.479375  0.470857   0.479375.1  \n",
      "1   learning_rate=0.01,n_estimators=100  0.476875  0.476497     0.476875  \n",
      "2  learning_rate=0.01,n_estimators=1000  0.488125  0.488115     0.488125  \n",
      "3    learning_rate=0.01,n_estimators=50  0.483750  0.483652      0.48375  \n",
      "4   learning_rate=0.01,n_estimators=500  0.495625  0.495609     0.495625  \n",
      "loaded  166 datasets and  13 classifiers\n",
      "datasets ( 166 )\n",
      "classifiers ( 6 ): ['DecisionTreeClassifier' 'GradientBoostingClassifier'\n",
      " 'KNeighborsClassifier' 'LogisticRegression' 'RandomForestClassifier'\n",
      " 'SVC']\n",
      "parameters for  DecisionTreeClassifier ( 154 ): ['min_weight_fraction_leaf=0.0,max_features=0.1,criterion=entropy'\n",
      " 'min_weight_fraction_leaf=0.0,max_features=0.1,criterion=gini'\n",
      " 'min_weight_fraction_leaf=0.0,max_features=0.25,criterion=entropy'\n",
      " 'min_weight_fraction_leaf=0.0,max_features=0.25,criterion=gini'\n",
      " 'min_weight_fraction_leaf=0.0,max_features=0.5,criterion=entropy']\n",
      "parameters for  GradientBoostingClassifier ( 6301 ): ['loss=deviance,learning_rate=0.01,n_estimators=10,max_depth=1,max_features=0.2'\n",
      " 'loss=deviance,learning_rate=0.01,n_estimators=10,max_depth=1,max_features=0.3'\n",
      " 'loss=deviance,learning_rate=0.01,n_estimators=10,max_depth=1,max_features=0.4'\n",
      " 'loss=deviance,learning_rate=0.01,n_estimators=10,max_depth=1,max_features=0.5'\n",
      " 'loss=deviance,learning_rate=0.01,n_estimators=10,max_depth=1,max_features=0.6']\n",
      "parameters for  KNeighborsClassifier ( 54 ): ['n_neighbors=1,weights=distance' 'n_neighbors=1,weights=uniform'\n",
      " 'n_neighbors=10,weights=distance' 'n_neighbors=10,weights=uniform'\n",
      " 'n_neighbors=100,weights=distance']\n",
      "parameters for  LogisticRegression ( 240 ): ['C=0.5,penalty=l1,fit_intercept=False,dual=False,'\n",
      " 'C=0.5,penalty=l1,fit_intercept=True,dual=False,'\n",
      " 'C=0.5,penalty=l2,fit_intercept=False,dual=False,'\n",
      " 'C=0.5,penalty=l2,fit_intercept=False,dual=True,'\n",
      " 'C=0.5,penalty=l2,fit_intercept=True,dual=False,']\n",
      "parameters for  RandomForestClassifier ( 770 ): ['n_estimators=10,min_weight_fraction_leaf=0.0,max_features=0.1,criterion=entropy'\n",
      " 'n_estimators=10,min_weight_fraction_leaf=0.0,max_features=0.1,criterion=gini'\n",
      " 'n_estimators=10,min_weight_fraction_leaf=0.0,max_features=0.25,criterion=entropy'\n",
      " 'n_estimators=10,min_weight_fraction_leaf=0.0,max_features=0.25,criterion=gini'\n",
      " 'n_estimators=10,min_weight_fraction_leaf=0.0,max_features=0.5,criterion=entropy']\n",
      "parameters for  SVC ( 1239 ): ['C=0.01,gamma=0.01,kernel=poly,degree=2,coef0=0.0,'\n",
      " 'C=0.01,gamma=0.01,kernel=poly,degree=2,coef0=0.1,'\n",
      " 'C=0.01,gamma=0.01,kernel=poly,degree=2,coef0=0.5,'\n",
      " 'C=0.01,gamma=0.01,kernel=poly,degree=2,coef0=1.0,'\n",
      " 'C=0.01,gamma=0.01,kernel=poly,degree=2,coef0=10.0,']\n"
     ]
    }
   ],
   "source": [
    "import pandas as pd\n",
    "import numpy as np\n",
    "\n",
    "data = pd.read_csv('sklearn-benchmark5-data-edited.tsv.gz', sep='\\t', names=['dataset',\n",
    "                                                                     'classifier',\n",
    "                                                                     'parameters',\n",
    "                                                                     'accuracy', \n",
    "                                                                     'macrof1',\n",
    "                                                                     'bal_accuracy']).fillna('')\n",
    "print(data.head())\n",
    "data['accuracy'] = data['accuracy'].apply(lambda x: round(x, 3))\n",
    "print('loaded ',data['dataset'].unique().shape[0],'datasets and ', data['classifier'].unique().shape[0],'classifiers')\n",
    "# subset data to classifiers used in PennAI\n",
    "pennai_classifiers = ['LogisticRegression', 'RandomForestClassifier', 'SVC', \n",
    "                      'KNeighborsClassifier', 'DecisionTreeClassifier', 'GradientBoostingClassifier']\n",
    "mask = np.array([c in pennai_classifiers for c in data['classifier'].values])\n",
    "data = data.loc[mask,:]\n",
    "print('datasets (',len(data['dataset'].unique()),')')\n",
    "print('classifiers (',len(data['classifier'].unique()),'):',data['classifier'].unique())\n",
    "for ml, df_g in data.groupby('classifier'):\n",
    "    print('parameters for ',ml,'(',len(df_g['parameters'].unique()),'):',df_g['parameters'].unique()[:5])\n"
   ]
  },
  {
   "cell_type": "code",
   "execution_count": 21,
   "metadata": {},
   "outputs": [
    {
     "name": "stderr",
     "output_type": "stream",
     "text": [
      "/home/bill/anaconda3/lib/python3.6/site-packages/ipykernel_launcher.py:5: SettingWithCopyWarning: \n",
      "A value is trying to be set on a copy of a slice from a DataFrame.\n",
      "Try using .loc[row_indexer,col_indexer] = value instead\n",
      "\n",
      "See the caveats in the documentation: http://pandas.pydata.org/pandas-docs/stable/indexing.html#indexing-view-versus-copy\n",
      "  \"\"\"\n"
     ]
    },
    {
     "data": {
      "text/plain": [
       "([0, 1, 2, 3, 4, 5], <a list of 6 Text xticklabel objects>)"
      ]
     },
     "execution_count": 21,
     "metadata": {},
     "output_type": "execute_result"
    },
    {
     "data": {
      "image/png": "[encoded data removed]",
      "text/plain": [
       "<Figure size 432x288 with 1 Axes>"
      ]
     },
     "metadata": {},
     "output_type": "display_data"
    }
   ],
   "source": [
    "winner = {}\n",
    "winner_datasets = {}\n",
    "import numpy as np\n",
    "for d, df in data.groupby('dataset'):\n",
    "    df['bal_accuracy'] = df['bal_accuracy'].apply(pd.to_numeric)\n",
    "    best_score = df['bal_accuracy'].max()\n",
    "    for clf, dfg in df.groupby('classifier'):\n",
    "        wins = np.any((best_score - dfg.bal_accuracy)/best_score <= 0.01)\n",
    "        if wins:\n",
    "            if clf in winner:\n",
    "                winner[clf] += 1\n",
    "                winner_datasets[clf].append(d)\n",
    "            else:\n",
    "                winner[clf] = 1\n",
    "                winner_datasets[clf] = [d]\n",
    "import matplotlib.pyplot as plt\n",
    "%matplotlib inline\n",
    "# print(winner)\n",
    "# print(winner_datasets)\n",
    "plt.bar(list(winner.keys()),list(winner.values()))\n",
    "plt.xticks(rotation=90)               "
   ]
  },
  {
   "cell_type": "markdown",
   "metadata": {},
   "source": [
    "# reduce GBC"
   ]
  },
  {
   "cell_type": "code",
   "execution_count": 22,
   "metadata": {},
   "outputs": [],
   "source": [
    "n_est = ['n_estimators='+str(n) for n in [100,500,1000]]\n",
    "max_depth = ['max_depth='+str(d) for d in [4,6,10]]\n",
    "max_features = ['max_features='+str(f) for f in ['sqrt','log2']]\n",
    "\n",
    "gbc = data['classifier']=='GradientBoostingClassifier'\n",
    "mask = [False for g in gbc]\n",
    "for n in n_est:\n",
    "    mask = mask | (gbc & np.array([n in p for p in data['parameters'].values]))\n",
    "mask = (mask | ~gbc)\n",
    "data = data.loc[mask,:]\n",
    "\n",
    "gbc = data['classifier']=='GradientBoostingClassifier'\n",
    "mask = [False for g in gbc]\n",
    "for n in max_depth:\n",
    "    mask = mask | (gbc & np.array([n in p for p in data['parameters'].values]))\n",
    "mask = (mask | ~gbc)\n",
    "data = data.loc[mask,:]\n",
    "\n",
    "gbc = data['classifier']=='GradientBoostingClassifier'\n",
    "mask = [False for g in gbc]\n",
    "for n in max_features:\n",
    "    mask = mask | (gbc & np.array([n in p for p in data['parameters'].values]))\n",
    "mask = (mask | ~gbc)\n",
    "data = data.loc[mask,:]"
   ]
  },
  {
   "cell_type": "markdown",
   "metadata": {},
   "source": [
    "# reduce RF"
   ]
  },
  {
   "cell_type": "code",
   "execution_count": 23,
   "metadata": {},
   "outputs": [
    {
     "data": {
      "text/html": [
       "<div>\n",
       "<style scoped>\n",
       "    .dataframe tbody tr th:only-of-type {\n",
       "        vertical-align: middle;\n",
       "    }\n",
       "\n",
       "    .dataframe tbody tr th {\n",
       "        vertical-align: top;\n",
       "    }\n",
       "\n",
       "    .dataframe thead th {\n",
       "        text-align: right;\n",
       "    }\n",
       "</style>\n",
       "<table border=\"1\" class=\"dataframe\">\n",
       "  <thead>\n",
       "    <tr style=\"text-align: right;\">\n",
       "      <th></th>\n",
       "      <th>dataset</th>\n",
       "      <th>parameters</th>\n",
       "      <th>accuracy</th>\n",
       "      <th>macrof1</th>\n",
       "      <th>bal_accuracy</th>\n",
       "    </tr>\n",
       "    <tr>\n",
       "      <th>classifier</th>\n",
       "      <th></th>\n",
       "      <th></th>\n",
       "      <th></th>\n",
       "      <th></th>\n",
       "      <th></th>\n",
       "    </tr>\n",
       "  </thead>\n",
       "  <tbody>\n",
       "    <tr>\n",
       "      <th>DecisionTreeClassifier</th>\n",
       "      <td>25410</td>\n",
       "      <td>25410</td>\n",
       "      <td>25410</td>\n",
       "      <td>25410</td>\n",
       "      <td>25410</td>\n",
       "    </tr>\n",
       "    <tr>\n",
       "      <th>GradientBoostingClassifier</th>\n",
       "      <td>20473</td>\n",
       "      <td>20473</td>\n",
       "      <td>20473</td>\n",
       "      <td>20473</td>\n",
       "      <td>20473</td>\n",
       "    </tr>\n",
       "    <tr>\n",
       "      <th>KNeighborsClassifier</th>\n",
       "      <td>8831</td>\n",
       "      <td>8831</td>\n",
       "      <td>8831</td>\n",
       "      <td>8831</td>\n",
       "      <td>8831</td>\n",
       "    </tr>\n",
       "    <tr>\n",
       "      <th>LogisticRegression</th>\n",
       "      <td>39145</td>\n",
       "      <td>39145</td>\n",
       "      <td>39145</td>\n",
       "      <td>39145</td>\n",
       "      <td>39145</td>\n",
       "    </tr>\n",
       "    <tr>\n",
       "      <th>RandomForestClassifier</th>\n",
       "      <td>32475</td>\n",
       "      <td>32475</td>\n",
       "      <td>32475</td>\n",
       "      <td>32475</td>\n",
       "      <td>32475</td>\n",
       "    </tr>\n",
       "    <tr>\n",
       "      <th>SVC</th>\n",
       "      <td>143179</td>\n",
       "      <td>143179</td>\n",
       "      <td>143179</td>\n",
       "      <td>143179</td>\n",
       "      <td>143179</td>\n",
       "    </tr>\n",
       "  </tbody>\n",
       "</table>\n",
       "</div>"
      ],
      "text/plain": [
       "                            dataset  parameters  accuracy  macrof1  \\\n",
       "classifier                                                           \n",
       "DecisionTreeClassifier        25410       25410     25410    25410   \n",
       "GradientBoostingClassifier    20473       20473     20473    20473   \n",
       "KNeighborsClassifier           8831        8831      8831     8831   \n",
       "LogisticRegression            39145       39145     39145    39145   \n",
       "RandomForestClassifier        32475       32475     32475    32475   \n",
       "SVC                          143179      143179    143179   143179   \n",
       "\n",
       "                            bal_accuracy  \n",
       "classifier                                \n",
       "DecisionTreeClassifier             25410  \n",
       "GradientBoostingClassifier         20473  \n",
       "KNeighborsClassifier                8831  \n",
       "LogisticRegression                 39145  \n",
       "RandomForestClassifier             32475  \n",
       "SVC                               143179  "
      ]
     },
     "execution_count": 23,
     "metadata": {},
     "output_type": "execute_result"
    }
   ],
   "source": [
    "# reduce Random Forest n_estimators\n",
    "\n",
    "rfc = data['classifier']=='RandomForestClassifier'\n",
    "mask = [False for g in rfc]\n",
    "for n in n_est:\n",
    "    mask = mask | (rfc & np.array([n in p for p in data['parameters'].values]))\n",
    "mask = (mask | ~rfc)\n",
    "data = data.loc[mask,:]\n",
    "\n",
    "max_features = ['max_features='+str(f) for f in ['sqrt','log2',None]]\n",
    "rfc = data['classifier']=='RandomForestClassifier'\n",
    "mask = [False for g in rfc]\n",
    "for n in max_features:\n",
    "    mask = mask | (rfc & np.array([n in p for p in data['parameters'].values]))\n",
    "mask = (mask | ~rfc)\n",
    "data = data.loc[mask,:]\n",
    "\n",
    "data.groupby('classifier').count()"
   ]
  },
  {
   "cell_type": "code",
   "execution_count": 24,
   "metadata": {},
   "outputs": [],
   "source": [
    "from collections import OrderedDict\n",
    "\n",
    "def convert_params(params):\n",
    "    \"\"\"convert from sklearn-style parameter formatting to dictionary, PennAI style.\"\"\"\n",
    "    pdict = {}\n",
    "    for kv in params.split(','):\n",
    "        if len(kv)==0: continue\n",
    "#         print(kv.split('='))\n",
    "        pdict[str(kv.split('=')[0])] = kv.split('=')[1]\n",
    "    for k,v in pdict.items():\n",
    "        try:\n",
    "            pdict[k] = int(v)\n",
    "        except ValueError:\n",
    "            try:     \n",
    "                pdict[k] = float(v)\n",
    "            except ValueError:\n",
    "                pass\n",
    "\n",
    "    return OrderedDict(sorted(pdict.items()))\n",
    "\n",
    "\n",
    "data['parameters'] = data['parameters'].apply(lambda x: convert_params(x))"
   ]
  },
  {
   "cell_type": "code",
   "execution_count": 25,
   "metadata": {},
   "outputs": [
    {
     "name": "stdout",
     "output_type": "stream",
     "text": [
      "example parameters for  DecisionTreeClassifier ( 154 ): OrderedDict([('criterion', 'entropy'), ('max_features', 0.1), ('min_weight_fraction_leaf', 0.0)])\n",
      "example parameters for  GradientBoostingClassifier ( 168 ): OrderedDict([('learning_rate', 0.01), ('loss', 'deviance'), ('max_depth', 10), ('max_features', 'log2'), ('n_estimators', 100)])\n",
      "example parameters for  KNeighborsClassifier ( 54 ): OrderedDict([('n_neighbors', 1), ('weights', 'distance')])\n",
      "example parameters for  LogisticRegression ( 240 ): OrderedDict([('C', 0.5), ('dual', 'False'), ('fit_intercept', 'False'), ('penalty', 'l1')])\n",
      "example parameters for  RandomForestClassifier ( 198 ): OrderedDict([('criterion', 'entropy'), ('max_features', 'None'), ('min_weight_fraction_leaf', 0.0), ('n_estimators', 100)])\n",
      "example parameters for  SVC ( 1239 ): OrderedDict([('C', 0.01), ('coef0', 0.0), ('degree', 2), ('gamma', 0.01), ('kernel', 'poly')])\n"
     ]
    }
   ],
   "source": [
    "for ml, df_g in data.groupby('classifier'):\n",
    "    print('example parameters for ',ml,'(',len(df_g['parameters'].apply(str).unique()),'):',\n",
    "           df_g['parameters'].apply(str).unique()[0])"
   ]
  },
  {
   "cell_type": "code",
   "execution_count": null,
   "metadata": {},
   "outputs": [],
   "source": [
    "#def valid_param_combo(ml,params):\n",
    "#     print('ml',ml,type(ml).__name__)\n",
    "#     print('params',params,type(params).__name__)\n",
    "\n",
    "#    for k,v in params.items():\n",
    "#        if k in param_opts[ml].keys():\n",
    "#            if param_opts[ml][k] is int:\n",
    "#                try:\n",
    "#                    if int(v) in param_opts[ml][k]:\n",
    "#                        return True\n",
    "#                except: \n",
    "#                    return False\n",
    "#            elif param_opts[ml][k] is float:\n",
    "#                try:\n",
    "#                    if float(v) in param_opts[ml][k]:\n",
    "#                        return True\n",
    "#                except: \n",
    "#                    return False\n",
    "#            elif v not in param_opts[ml][k]:\n",
    "##                 if ml == 'LogisticRegression' and k=='C':\n",
    "##                     print('eliminating',params,'for',ml,'with',k,':',v)\n",
    "#                    return False\n",
    "#    return True\n",
    "#\n",
    "#mask = [valid_param_combo(row['classifier'],row['parameters']) for _, row in data.iterrows()]\n",
    "#mask = mask | data.classifier=='LogisticRegression'\n",
    "#data_filtered = data.loc[mask]\n",
    "#\n",
    "## data_filtered = data.loc[lambda x: valid_param_combo(i['classifier'],i['parameters']) for i in x]\n"
   ]
  },
  {
   "cell_type": "code",
   "execution_count": 26,
   "metadata": {},
   "outputs": [
    {
     "name": "stdout",
     "output_type": "stream",
     "text": [
      "example parameters for  DecisionTreeClassifier ( 154 ): OrderedDict([('criterion', 'entropy'), ('max_features', 0.1), ('min_weight_fraction_leaf', 0.0)])\n",
      "example parameters for  GradientBoostingClassifier ( 168 ): OrderedDict([('learning_rate', 0.01), ('loss', 'deviance'), ('max_depth', 10), ('max_features', 'log2'), ('n_estimators', 100)])\n",
      "example parameters for  KNeighborsClassifier ( 54 ): OrderedDict([('n_neighbors', 1), ('weights', 'distance')])\n",
      "example parameters for  LogisticRegression ( 240 ): OrderedDict([('C', 0.5), ('dual', 'False'), ('fit_intercept', 'False'), ('penalty', 'l1')])\n",
      "example parameters for  RandomForestClassifier ( 198 ): OrderedDict([('criterion', 'entropy'), ('max_features', 'None'), ('min_weight_fraction_leaf', 0.0), ('n_estimators', 100)])\n",
      "example parameters for  SVC ( 1239 ): OrderedDict([('C', 0.01), ('coef0', 0.0), ('degree', 2), ('gamma', 0.01), ('kernel', 'poly')])\n"
     ]
    }
   ],
   "source": [
    "for ml, df_g in data.groupby('classifier'):\n",
    "    print('example parameters for ',ml,'(',len(df_g['parameters'].apply(str).unique()),'):',\n",
    "           df_g['parameters'].apply(str).unique()[0])"
   ]
  },
  {
   "cell_type": "markdown",
   "metadata": {},
   "source": [
    "# how many winners of each algorithm are there? (winning = < 1% away from best score)"
   ]
  },
  {
   "cell_type": "code",
   "execution_count": 27,
   "metadata": {},
   "outputs": [
    {
     "name": "stderr",
     "output_type": "stream",
     "text": [
      "/home/bill/anaconda3/lib/python3.6/site-packages/ipykernel_launcher.py:5: SettingWithCopyWarning: \n",
      "A value is trying to be set on a copy of a slice from a DataFrame.\n",
      "Try using .loc[row_indexer,col_indexer] = value instead\n",
      "\n",
      "See the caveats in the documentation: http://pandas.pydata.org/pandas-docs/stable/indexing.html#indexing-view-versus-copy\n",
      "  \"\"\"\n"
     ]
    },
    {
     "data": {
      "text/plain": [
       "([0, 1, 2, 3, 4, 5], <a list of 6 Text xticklabel objects>)"
      ]
     },
     "execution_count": 27,
     "metadata": {},
     "output_type": "execute_result"
    },
    {
     "data": {
      "image/png": "[encoded data removed]",
      "text/plain": [
       "<Figure size 432x288 with 1 Axes>"
      ]
     },
     "metadata": {},
     "output_type": "display_data"
    }
   ],
   "source": [
    "winner = {}\n",
    "winner_datasets = {}\n",
    "import numpy as np\n",
    "for d, df in data.groupby('dataset'):\n",
    "    df['bal_accuracy'] = df['bal_accuracy'].apply(pd.to_numeric)\n",
    "    best_score = df['bal_accuracy'].max()\n",
    "    for clf, dfg in df.groupby('classifier'):\n",
    "        wins = np.any((best_score - dfg.bal_accuracy)/best_score <= 0.01)\n",
    "        if wins:\n",
    "            if clf in winner:\n",
    "                winner[clf] += 1\n",
    "                winner_datasets[clf].append(d)\n",
    "            else:\n",
    "                winner[clf] = 1\n",
    "                winner_datasets[clf] = [d]\n",
    "import matplotlib.pyplot as plt\n",
    "%matplotlib inline\n",
    "# print(winner)\n",
    "# print(winner_datasets)\n",
    "plt.bar(list(winner.keys()),list(winner.values()))\n",
    "plt.xticks(rotation=90)               "
   ]
  },
  {
   "cell_type": "code",
   "execution_count": 28,
   "metadata": {},
   "outputs": [
    {
     "name": "stdout",
     "output_type": "stream",
     "text": [
      "['GAMETES_Epistasis_2-Way_1000atts_0.4H_EDM-1_EDM-1_1', 'agaricus-lepiota', 'allbp', 'analcatdata_bankruptcy', 'analcatdata_creditscore', 'analcatdata_cyyoung8092', 'analcatdata_fraud', 'ann-thyroid', 'appendicitis', 'chess', 'clean1', 'clean2', 'cleveland-nominal', 'cloud', 'colic', 'collins', 'corral', 'dis', 'heart-h', 'house-votes-84', 'irish', 'kddcup', 'kr-vs-kp', 'krkopt', 'led7', 'mofn-3-7-10', 'monk2', 'mushroom', 'mux6', 'nursery', 'segmentation', 'shuttle', 'soybean', 'threeOf9', 'wine-quality-red', 'xd6', 'GAMETES_Epistasis_2-Way_1000atts_0.4H_EDM-1_EDM-1_1', 'agaricus-lepiota', 'analcatdata_authorship', 'analcatdata_dmft', 'banana', 'breast', 'breast-w', 'calendarDOW', 'cleve', 'confidence', 'dermatology', 'ecoli', 'heart-statlog', 'led24', 'led7', 'mfeat-factors', 'mfeat-pixel', 'mushroom', 'mux6', 'optdigits', 'parity5', 'pendigits', 'satimage', 'spect', 'tae', 'texture', 'threeOf9', 'tokyo1', 'twonorm', 'vowel', 'wine-quality-white', 'xd6', 'yeast', 'GAMETES_Epistasis_2-Way_20atts_0.4H_EDM-1_1', 'GAMETES_Heterogeneity_20atts_1600_Het_0.4_0.2_50_EDM-2_001', 'GAMETES_Heterogeneity_20atts_1600_Het_0.4_0.2_75_EDM-2_001', 'agaricus-lepiota', 'allhyper', 'analcatdata_aids', 'analcatdata_asbestos', 'analcatdata_authorship', 'analcatdata_bankruptcy', 'analcatdata_dmft', 'analcatdata_germangss', 'analcatdata_happiness', 'analcatdata_japansolvent', 'australian', 'balance-scale', 'banana', 'biomed', 'breast', 'breast-cancer-wisconsin', 'breast-w', 'buggyCrx', 'bupa', 'car', 'car-evaluation', 'chess', 'clean1', 'clean2', 'cleveland', 'cleveland-nominal', 'colic', 'confidence', 'corral', 'credit-a', 'crx', 'dermatology', 'dna', 'ecoli', 'hayes-roth', 'heart-h', 'heart-statlog', 'hepatitis', 'house-votes-84', 'hungarian', 'ionosphere', 'iris', 'irish', 'kr-vs-kp', 'labor', 'led24', 'led7', 'letter', 'liver-disorder', 'lymphography', 'mfeat-factors', 'mfeat-fourier', 'mfeat-karhunen', 'mfeat-morphological', 'mfeat-pixel', 'mfeat-zernike', 'mnist', 'mofn-3-7-10', 'monk1', 'monk3', 'movement_libras', 'mushroom', 'mux6', 'new-thyroid', 'nursery', 'optdigits', 'parity5', 'pendigits', 'postoperative-patient-data', 'prnn_crabs', 'prnn_synth', 'ring', 'satimage', 'segmentation', 'shuttle', 'solar-flare_2', 'sonar', 'spectf', 'texture', 'threeOf9', 'tic-tac-toe', 'titanic', 'tokyo1', 'twonorm', 'vehicle', 'vote', 'vowel', 'waveform-21', 'waveform-40', 'wdbc', 'wine-quality-red', 'wine-recognition', 'xd6', 'GAMETES_Epistasis_3-Way_20atts_0.2H_EDM-1_1', 'agaricus-lepiota', 'allbp', 'allhyper', 'allhypo', 'allrep', 'analcatdata_authorship', 'analcatdata_boxing1', 'analcatdata_boxing2', 'analcatdata_creditscore', 'analcatdata_dmft', 'analcatdata_germangss', 'ann-thyroid', 'australian', 'auto', 'banana', 'breast', 'breast-w', 'buggyCrx', 'bupa', 'cars', 'cars1', 'chess', 'churn', 'clean1', 'clean2', 'cleve', 'cleveland-nominal', 'cloud', 'cmc', 'colic', 'collins', 'confidence', 'connect-4', 'contraceptive', 'corral', 'credit-a', 'crx', 'dermatology', 'dna', 'ecoli', 'fars', 'glass', 'heart-c', 'horse-colic', 'house-votes-84', 'irish', 'kddcup', 'kr-vs-kp', 'krkopt', 'led24', 'led7', 'letter', 'liver-disorder', 'lupus', 'magic', 'mfeat-factors', 'mfeat-fourier', 'mfeat-karhunen', 'mfeat-pixel', 'mnist', 'mofn-3-7-10', 'molecular-biology_promoters', 'monk1', 'monk2', 'mushroom', 'mux6', 'nursery', 'optdigits', 'page-blocks', 'parity5+5', 'pendigits', 'phoneme', 'prnn_fglass', 'promoters', 'satimage', 'schizo', 'segmentation', 'shuttle', 'sleep', 'soybean', 'spambase', 'spectf', 'splice', 'tae', 'threeOf9', 'tokyo1', 'twonorm', 'vote', 'vowel', 'waveform-40', 'wine-quality-red', 'wine-quality-white', 'wine-recognition', 'xd6', 'yeast', 'Hill_Valley_with_noise', 'Hill_Valley_without_noise', 'analcatdata_authorship', 'analcatdata_bankruptcy', 'analcatdata_cyyoung9302', 'analcatdata_dmft', 'appendicitis', 'australian', 'backache', 'breast-cancer', 'breast-cancer-wisconsin', 'buggyCrx', 'clean1', 'clean2', 'cleveland', 'cleveland-nominal', 'coil2000', 'confidence', 'credit-a', 'crx', 'dermatology', 'diabetes', 'dna', 'ecoli', 'flare', 'german', 'haberman', 'hepatitis', 'led24', 'led7', 'mfeat-factors', 'mfeat-morphological', 'mfeat-zernike', 'mofn-3-7-10', 'molecular-biology_promoters', 'pima', 'prnn_crabs', 'profb', 'promoters', 'saheart', 'solar-flare_2', 'texture', 'titanic', 'twonorm', 'vote', 'waveform-21', 'waveform-40', 'wdbc', 'wine-recognition']\n",
      "['GAMETES_Epistasis_2-Way_20atts_0.1H_EDM-1_1', 'adult', 'analcatdata_lawsuit', 'credit-g', 'flags', 'glass2', 'hypothyroid', 'solar-flare_1']\n"
     ]
    },
    {
     "data": {
      "text/plain": [
       "8"
      ]
     },
     "execution_count": 28,
     "metadata": {},
     "output_type": "execute_result"
    }
   ],
   "source": [
    "import itertools\n",
    "other_winners = [d for d in [da for k,da in winner_datasets.items() if k != 'GradientBoostingClassifier' ]]\n",
    "other_winners = list(itertools.chain.from_iterable(other_winners))\n",
    "print(other_winners) \n",
    "only_gbc = [d for d in winner_datasets['GradientBoostingClassifier'] \n",
    "            if d not in other_winners]\n",
    "print(only_gbc)\n",
    "len(only_gbc)"
   ]
  },
  {
   "cell_type": "markdown",
   "metadata": {},
   "source": [
    "# remove datasets where GBC is the only winner"
   ]
  },
  {
   "cell_type": "code",
   "execution_count": 29,
   "metadata": {},
   "outputs": [
    {
     "name": "stdout",
     "output_type": "stream",
     "text": [
      "# datasets left: 157\n"
     ]
    }
   ],
   "source": [
    "data = data[~data.dataset.isin(only_gbc)]\n",
    "print('# datasets left:',len(data.dataset.unique()))"
   ]
  },
  {
   "cell_type": "code",
   "execution_count": 30,
   "metadata": {},
   "outputs": [
    {
     "name": "stdout",
     "output_type": "stream",
     "text": [
      "[\"OrderedDict([('n_neighbors', 1), ('weights', 'distance')])\"\n",
      " \"OrderedDict([('n_neighbors', 1), ('weights', 'uniform')])\"\n",
      " \"OrderedDict([('n_neighbors', 10), ('weights', 'distance')])\"\n",
      " \"OrderedDict([('n_neighbors', 10), ('weights', 'uniform')])\"\n",
      " \"OrderedDict([('n_neighbors', 100), ('weights', 'distance')])\"\n",
      " \"OrderedDict([('n_neighbors', 100), ('weights', 'uniform')])\"\n",
      " \"OrderedDict([('n_neighbors', 11), ('weights', 'distance')])\"\n",
      " \"OrderedDict([('n_neighbors', 11), ('weights', 'uniform')])\"\n",
      " \"OrderedDict([('n_neighbors', 12), ('weights', 'distance')])\"\n",
      " \"OrderedDict([('n_neighbors', 12), ('weights', 'uniform')])\"\n",
      " \"OrderedDict([('n_neighbors', 13), ('weights', 'distance')])\"\n",
      " \"OrderedDict([('n_neighbors', 13), ('weights', 'uniform')])\"\n",
      " \"OrderedDict([('n_neighbors', 14), ('weights', 'distance')])\"\n",
      " \"OrderedDict([('n_neighbors', 14), ('weights', 'uniform')])\"\n",
      " \"OrderedDict([('n_neighbors', 15), ('weights', 'distance')])\"\n",
      " \"OrderedDict([('n_neighbors', 15), ('weights', 'uniform')])\"\n",
      " \"OrderedDict([('n_neighbors', 16), ('weights', 'distance')])\"\n",
      " \"OrderedDict([('n_neighbors', 16), ('weights', 'uniform')])\"\n",
      " \"OrderedDict([('n_neighbors', 17), ('weights', 'distance')])\"\n",
      " \"OrderedDict([('n_neighbors', 17), ('weights', 'uniform')])\"\n",
      " \"OrderedDict([('n_neighbors', 18), ('weights', 'distance')])\"\n",
      " \"OrderedDict([('n_neighbors', 18), ('weights', 'uniform')])\"\n",
      " \"OrderedDict([('n_neighbors', 19), ('weights', 'distance')])\"\n",
      " \"OrderedDict([('n_neighbors', 19), ('weights', 'uniform')])\"\n",
      " \"OrderedDict([('n_neighbors', 2), ('weights', 'distance')])\"\n",
      " \"OrderedDict([('n_neighbors', 2), ('weights', 'uniform')])\"\n",
      " \"OrderedDict([('n_neighbors', 20), ('weights', 'distance')])\"\n",
      " \"OrderedDict([('n_neighbors', 20), ('weights', 'uniform')])\"\n",
      " \"OrderedDict([('n_neighbors', 21), ('weights', 'distance')])\"\n",
      " \"OrderedDict([('n_neighbors', 21), ('weights', 'uniform')])\"\n",
      " \"OrderedDict([('n_neighbors', 22), ('weights', 'distance')])\"\n",
      " \"OrderedDict([('n_neighbors', 22), ('weights', 'uniform')])\"\n",
      " \"OrderedDict([('n_neighbors', 23), ('weights', 'distance')])\"\n",
      " \"OrderedDict([('n_neighbors', 23), ('weights', 'uniform')])\"\n",
      " \"OrderedDict([('n_neighbors', 24), ('weights', 'distance')])\"\n",
      " \"OrderedDict([('n_neighbors', 24), ('weights', 'uniform')])\"\n",
      " \"OrderedDict([('n_neighbors', 25), ('weights', 'distance')])\"\n",
      " \"OrderedDict([('n_neighbors', 25), ('weights', 'uniform')])\"\n",
      " \"OrderedDict([('n_neighbors', 3), ('weights', 'distance')])\"\n",
      " \"OrderedDict([('n_neighbors', 3), ('weights', 'uniform')])\"\n",
      " \"OrderedDict([('n_neighbors', 4), ('weights', 'distance')])\"\n",
      " \"OrderedDict([('n_neighbors', 4), ('weights', 'uniform')])\"\n",
      " \"OrderedDict([('n_neighbors', 5), ('weights', 'distance')])\"\n",
      " \"OrderedDict([('n_neighbors', 5), ('weights', 'uniform')])\"\n",
      " \"OrderedDict([('n_neighbors', 50), ('weights', 'distance')])\"\n",
      " \"OrderedDict([('n_neighbors', 50), ('weights', 'uniform')])\"\n",
      " \"OrderedDict([('n_neighbors', 6), ('weights', 'distance')])\"\n",
      " \"OrderedDict([('n_neighbors', 6), ('weights', 'uniform')])\"\n",
      " \"OrderedDict([('n_neighbors', 7), ('weights', 'distance')])\"\n",
      " \"OrderedDict([('n_neighbors', 7), ('weights', 'uniform')])\"\n",
      " \"OrderedDict([('n_neighbors', 8), ('weights', 'distance')])\"\n",
      " \"OrderedDict([('n_neighbors', 8), ('weights', 'uniform')])\"\n",
      " \"OrderedDict([('n_neighbors', 9), ('weights', 'distance')])\"\n",
      " \"OrderedDict([('n_neighbors', 9), ('weights', 'uniform')])\"]\n"
     ]
    }
   ],
   "source": [
    "print(data[data['classifier']=='KNeighborsClassifier']['parameters'].apply(str).unique())"
   ]
  },
  {
   "cell_type": "markdown",
   "metadata": {},
   "source": [
    "# remove big datasets"
   ]
  },
  {
   "cell_type": "code",
   "execution_count": 31,
   "metadata": {},
   "outputs": [
    {
     "name": "stdout",
     "output_type": "stream",
     "text": [
      "143 datasets left\n"
     ]
    }
   ],
   "source": [
    "data_filtered = data\n",
    "#datasets to remove:\n",
    "big_datasets = ['poker', 'kddcup', 'sleep', 'fars', 'mnist', 'connect-4', 'shuttle', 'adult', 'krkopt', \n",
    "                'letter', 'magic', 'nursery', 'pendigits', 'coil2000', 'agaricus-lepiota','optdigits']\n",
    "mask = np.array([d not in big_datasets for d in data_filtered['dataset'].values])\n",
    "clean_data = data_filtered.loc[mask,:]\n",
    "clean_data.groupby('dataset').count()\n",
    "print(len(clean_data['dataset'].unique()),'datasets left')"
   ]
  },
  {
   "cell_type": "markdown",
   "metadata": {},
   "source": [
    "# remove alg-params that don't cover all datasets"
   ]
  },
  {
   "cell_type": "code",
   "execution_count": 32,
   "metadata": {},
   "outputs": [
    {
     "name": "stderr",
     "output_type": "stream",
     "text": [
      "/home/bill/anaconda3/lib/python3.6/site-packages/pandas/core/indexing.py:362: SettingWithCopyWarning: \n",
      "A value is trying to be set on a copy of a slice from a DataFrame.\n",
      "Try using .loc[row_indexer,col_indexer] = value instead\n",
      "\n",
      "See the caveats in the documentation: http://pandas.pydata.org/pandas-docs/stable/indexing.html#indexing-view-versus-copy\n",
      "  self.obj[key] = _infer_fill_value(value)\n",
      "/home/bill/anaconda3/lib/python3.6/site-packages/pandas/core/indexing.py:543: SettingWithCopyWarning: \n",
      "A value is trying to be set on a copy of a slice from a DataFrame.\n",
      "Try using .loc[row_indexer,col_indexer] = value instead\n",
      "\n",
      "See the caveats in the documentation: http://pandas.pydata.org/pandas-docs/stable/indexing.html#indexing-view-versus-copy\n",
      "  self.obj[item] = s\n"
     ]
    },
    {
     "name": "stdout",
     "output_type": "stream",
     "text": [
      "removing 140777 algorithm-parameter combinations\n",
      "new size: 101387\n"
     ]
    },
    {
     "data": {
      "text/html": [
       "<div>\n",
       "<style scoped>\n",
       "    .dataframe tbody tr th:only-of-type {\n",
       "        vertical-align: middle;\n",
       "    }\n",
       "\n",
       "    .dataframe tbody tr th {\n",
       "        vertical-align: top;\n",
       "    }\n",
       "\n",
       "    .dataframe thead th {\n",
       "        text-align: right;\n",
       "    }\n",
       "</style>\n",
       "<table border=\"1\" class=\"dataframe\">\n",
       "  <thead>\n",
       "    <tr style=\"text-align: right;\">\n",
       "      <th></th>\n",
       "      <th>dataset</th>\n",
       "      <th>parameters</th>\n",
       "      <th>accuracy</th>\n",
       "      <th>macrof1</th>\n",
       "      <th>bal_accuracy</th>\n",
       "    </tr>\n",
       "    <tr>\n",
       "      <th>classifier</th>\n",
       "      <th></th>\n",
       "      <th></th>\n",
       "      <th></th>\n",
       "      <th></th>\n",
       "      <th></th>\n",
       "    </tr>\n",
       "  </thead>\n",
       "  <tbody>\n",
       "    <tr>\n",
       "      <th>DecisionTreeClassifier</th>\n",
       "      <td>22022</td>\n",
       "      <td>22022</td>\n",
       "      <td>22022</td>\n",
       "      <td>22022</td>\n",
       "      <td>22022</td>\n",
       "    </tr>\n",
       "    <tr>\n",
       "      <th>GradientBoostingClassifier</th>\n",
       "      <td>8008</td>\n",
       "      <td>8008</td>\n",
       "      <td>8008</td>\n",
       "      <td>8008</td>\n",
       "      <td>8008</td>\n",
       "    </tr>\n",
       "    <tr>\n",
       "      <th>KNeighborsClassifier</th>\n",
       "      <td>7150</td>\n",
       "      <td>7150</td>\n",
       "      <td>7150</td>\n",
       "      <td>7150</td>\n",
       "      <td>7150</td>\n",
       "    </tr>\n",
       "    <tr>\n",
       "      <th>LogisticRegression</th>\n",
       "      <td>34320</td>\n",
       "      <td>34320</td>\n",
       "      <td>34320</td>\n",
       "      <td>34320</td>\n",
       "      <td>34320</td>\n",
       "    </tr>\n",
       "    <tr>\n",
       "      <th>RandomForestClassifier</th>\n",
       "      <td>28314</td>\n",
       "      <td>28314</td>\n",
       "      <td>28314</td>\n",
       "      <td>28314</td>\n",
       "      <td>28314</td>\n",
       "    </tr>\n",
       "    <tr>\n",
       "      <th>SVC</th>\n",
       "      <td>1573</td>\n",
       "      <td>1573</td>\n",
       "      <td>1573</td>\n",
       "      <td>1573</td>\n",
       "      <td>1573</td>\n",
       "    </tr>\n",
       "  </tbody>\n",
       "</table>\n",
       "</div>"
      ],
      "text/plain": [
       "                            dataset  parameters  accuracy  macrof1  \\\n",
       "classifier                                                           \n",
       "DecisionTreeClassifier        22022       22022     22022    22022   \n",
       "GradientBoostingClassifier     8008        8008      8008     8008   \n",
       "KNeighborsClassifier           7150        7150      7150     7150   \n",
       "LogisticRegression            34320       34320     34320    34320   \n",
       "RandomForestClassifier        28314       28314     28314    28314   \n",
       "SVC                            1573        1573      1573     1573   \n",
       "\n",
       "                            bal_accuracy  \n",
       "classifier                                \n",
       "DecisionTreeClassifier             22022  \n",
       "GradientBoostingClassifier          8008  \n",
       "KNeighborsClassifier                7150  \n",
       "LogisticRegression                 34320  \n",
       "RandomForestClassifier             28314  \n",
       "SVC                                 1573  "
      ]
     },
     "execution_count": 32,
     "metadata": {},
     "output_type": "execute_result"
    }
   ],
   "source": [
    "clean_data.loc[:, 'algorithm-parameters'] = (                                             \n",
    "                                       clean_data['classifier'].values + '|' +                     \n",
    "                                       clean_data['parameters'].apply(str).values) \n",
    "all_datasets = np.unique(clean_data['dataset'].values)\n",
    "nd = len(all_datasets)\n",
    "algp_toremove = []\n",
    "for algp, group in clean_data.groupby('algorithm-parameters'):\n",
    "    if (group['dataset'].count()<nd):\n",
    "        #print(algp, '\\n\\t is missing results for', [d for d in all_datasets if d not in np.unique(group['dataset'])])\n",
    "        #print('removing',algp)\n",
    "        algp_toremove.append(algp)\n",
    "        \n",
    "mask = np.array([ap not in algp_toremove for ap in clean_data['algorithm-parameters'].values])\n",
    "print('removing',np.sum(~mask),'algorithm-parameter combinations')\n",
    "clean_data = clean_data.loc[mask,:]\n",
    "print('new size:',len(clean_data))\n",
    "clean_data.drop('algorithm-parameters',axis=1,inplace=True)\n",
    "\n",
    "clean_data.groupby('classifier').count()"
   ]
  },
  {
   "cell_type": "code",
   "execution_count": 37,
   "metadata": {},
   "outputs": [
    {
     "data": {
      "text/html": [
       "<div>\n",
       "<style scoped>\n",
       "    .dataframe tbody tr th:only-of-type {\n",
       "        vertical-align: middle;\n",
       "    }\n",
       "\n",
       "    .dataframe tbody tr th {\n",
       "        vertical-align: top;\n",
       "    }\n",
       "\n",
       "    .dataframe thead th {\n",
       "        text-align: right;\n",
       "    }\n",
       "</style>\n",
       "<table border=\"1\" class=\"dataframe\">\n",
       "  <thead>\n",
       "    <tr style=\"text-align: right;\">\n",
       "      <th></th>\n",
       "      <th>dataset</th>\n",
       "      <th>classifier</th>\n",
       "      <th>parameters</th>\n",
       "      <th>accuracy</th>\n",
       "      <th>macrof1</th>\n",
       "      <th>bal_accuracy</th>\n",
       "      <th>norm_score</th>\n",
       "      <th>round_norm_score</th>\n",
       "      <th>ranking</th>\n",
       "    </tr>\n",
       "  </thead>\n",
       "  <tbody>\n",
       "    <tr>\n",
       "      <th>175</th>\n",
       "      <td>GAMETES_Epistasis_2-Way_1000atts_0.4H_EDM-1_ED...</td>\n",
       "      <td>DecisionTreeClassifier</td>\n",
       "      <td>{'criterion': 'entropy', 'max_features': 0.1, ...</td>\n",
       "      <td>0.507</td>\n",
       "      <td>0.507488</td>\n",
       "      <td>0.507500</td>\n",
       "      <td>0.645455</td>\n",
       "      <td>0.65</td>\n",
       "      <td>20.0</td>\n",
       "    </tr>\n",
       "    <tr>\n",
       "      <th>176</th>\n",
       "      <td>GAMETES_Epistasis_2-Way_1000atts_0.4H_EDM-1_ED...</td>\n",
       "      <td>DecisionTreeClassifier</td>\n",
       "      <td>{'criterion': 'gini', 'max_features': 0.1, 'mi...</td>\n",
       "      <td>0.476</td>\n",
       "      <td>0.476040</td>\n",
       "      <td>0.476250</td>\n",
       "      <td>0.190909</td>\n",
       "      <td>0.19</td>\n",
       "      <td>65.0</td>\n",
       "    </tr>\n",
       "    <tr>\n",
       "      <th>177</th>\n",
       "      <td>GAMETES_Epistasis_2-Way_1000atts_0.4H_EDM-1_ED...</td>\n",
       "      <td>DecisionTreeClassifier</td>\n",
       "      <td>{'criterion': 'entropy', 'max_features': 0.25,...</td>\n",
       "      <td>0.507</td>\n",
       "      <td>0.506832</td>\n",
       "      <td>0.506875</td>\n",
       "      <td>0.636364</td>\n",
       "      <td>0.64</td>\n",
       "      <td>21.0</td>\n",
       "    </tr>\n",
       "    <tr>\n",
       "      <th>178</th>\n",
       "      <td>GAMETES_Epistasis_2-Way_1000atts_0.4H_EDM-1_ED...</td>\n",
       "      <td>DecisionTreeClassifier</td>\n",
       "      <td>{'criterion': 'gini', 'max_features': 0.25, 'm...</td>\n",
       "      <td>0.490</td>\n",
       "      <td>0.489993</td>\n",
       "      <td>0.490000</td>\n",
       "      <td>0.390909</td>\n",
       "      <td>0.39</td>\n",
       "      <td>46.0</td>\n",
       "    </tr>\n",
       "    <tr>\n",
       "      <th>179</th>\n",
       "      <td>GAMETES_Epistasis_2-Way_1000atts_0.4H_EDM-1_ED...</td>\n",
       "      <td>DecisionTreeClassifier</td>\n",
       "      <td>{'criterion': 'entropy', 'max_features': 0.5, ...</td>\n",
       "      <td>0.512</td>\n",
       "      <td>0.512497</td>\n",
       "      <td>0.512500</td>\n",
       "      <td>0.718182</td>\n",
       "      <td>0.72</td>\n",
       "      <td>14.0</td>\n",
       "    </tr>\n",
       "  </tbody>\n",
       "</table>\n",
       "</div>"
      ],
      "text/plain": [
       "                                               dataset  \\\n",
       "175  GAMETES_Epistasis_2-Way_1000atts_0.4H_EDM-1_ED...   \n",
       "176  GAMETES_Epistasis_2-Way_1000atts_0.4H_EDM-1_ED...   \n",
       "177  GAMETES_Epistasis_2-Way_1000atts_0.4H_EDM-1_ED...   \n",
       "178  GAMETES_Epistasis_2-Way_1000atts_0.4H_EDM-1_ED...   \n",
       "179  GAMETES_Epistasis_2-Way_1000atts_0.4H_EDM-1_ED...   \n",
       "\n",
       "                 classifier  \\\n",
       "175  DecisionTreeClassifier   \n",
       "176  DecisionTreeClassifier   \n",
       "177  DecisionTreeClassifier   \n",
       "178  DecisionTreeClassifier   \n",
       "179  DecisionTreeClassifier   \n",
       "\n",
       "                                            parameters  accuracy   macrof1  \\\n",
       "175  {'criterion': 'entropy', 'max_features': 0.1, ...     0.507  0.507488   \n",
       "176  {'criterion': 'gini', 'max_features': 0.1, 'mi...     0.476  0.476040   \n",
       "177  {'criterion': 'entropy', 'max_features': 0.25,...     0.507  0.506832   \n",
       "178  {'criterion': 'gini', 'max_features': 0.25, 'm...     0.490  0.489993   \n",
       "179  {'criterion': 'entropy', 'max_features': 0.5, ...     0.512  0.512497   \n",
       "\n",
       "     bal_accuracy  norm_score  round_norm_score  ranking  \n",
       "175      0.507500    0.645455              0.65     20.0  \n",
       "176      0.476250    0.190909              0.19     65.0  \n",
       "177      0.506875    0.636364              0.64     21.0  \n",
       "178      0.490000    0.390909              0.39     46.0  \n",
       "179      0.512500    0.718182              0.72     14.0  "
      ]
     },
     "execution_count": 37,
     "metadata": {},
     "output_type": "execute_result"
    }
   ],
   "source": [
    "clean_data.head()"
   ]
  },
  {
   "cell_type": "markdown",
   "metadata": {},
   "source": [
    "# calculate rankings for each result"
   ]
  },
  {
   "cell_type": "code",
   "execution_count": 35,
   "metadata": {},
   "outputs": [],
   "source": [
    "clean_data['bal_accuracy'] = clean_data['bal_accuracy'].apply(pd.to_numeric)\n",
    "clean_data['norm_score'] = clean_data.groupby('dataset')['bal_accuracy'].transform(\n",
    "                                                                lambda x: (x - x.min()) / (x.max() - x.min()))\n",
    "clean_data['round_norm_score'] = clean_data['norm_score'].apply(lambda x: round(x,2))\n",
    "clean_data['ranking'] = clean_data.groupby('dataset')['round_norm_score'].rank(ascending=False,method='dense')            "
   ]
  },
  {
   "cell_type": "code",
   "execution_count": 36,
   "metadata": {},
   "outputs": [
    {
     "name": "stdout",
     "output_type": "stream",
     "text": [
      "example parameters for  DecisionTreeClassifier ( 154 ): OrderedDict([('criterion', 'entropy'), ('max_features', 0.1), ('min_weight_fraction_leaf', 0.0)])\n",
      "example parameters for  GradientBoostingClassifier ( 56 ): OrderedDict([('learning_rate', 0.01), ('loss', 'deviance'), ('max_depth', 10), ('max_features', 'log2'), ('n_estimators', 100)])\n",
      "example parameters for  KNeighborsClassifier ( 50 ): OrderedDict([('n_neighbors', 1), ('weights', 'distance')])\n",
      "example parameters for  LogisticRegression ( 240 ): OrderedDict([('C', 0.5), ('dual', 'False'), ('fit_intercept', 'False'), ('penalty', 'l1')])\n",
      "example parameters for  RandomForestClassifier ( 198 ): OrderedDict([('criterion', 'entropy'), ('max_features', 'None'), ('min_weight_fraction_leaf', 0.0), ('n_estimators', 100)])\n",
      "example parameters for  SVC ( 11 ): OrderedDict([('C', 0.01), ('coef0', 0.0), ('degree', 2), ('gamma', 0.01), ('kernel', 'poly')])\n"
     ]
    }
   ],
   "source": [
    "for ml, df_g in clean_data.groupby('classifier'):\n",
    "    print('example parameters for ',ml,'(',len(df_g['parameters'].apply(str).unique()),'):',\n",
    "           df_g['parameters'].apply(str).unique()[0])"
   ]
  },
  {
   "cell_type": "markdown",
   "metadata": {},
   "source": [
    "# write modified data to file"
   ]
  },
  {
   "cell_type": "code",
   "execution_count": 41,
   "metadata": {},
   "outputs": [],
   "source": [
    "clean_data.rename(columns={'classifier':'algorithm'},inplace=True)\n",
    "clean_data.to_csv('sklearn-benchmark5-data-mock_experiment.tsv.gz',compression='gzip',index=False,sep='\\t')"
   ]
  }
 ],
 "metadata": {
  "kernelspec": {
   "display_name": "Python 3",
   "language": "python",
   "name": "python3"
  },
  "language_info": {
   "codemirror_mode": {
    "name": "ipython",
    "version": 3
   },
   "file_extension": ".py",
   "mimetype": "text/x-python",
   "name": "python",
   "nbconvert_exporter": "python",
   "pygments_lexer": "ipython3",
   "version": "3.6.5"
  }
 },
 "nbformat": 4,
 "nbformat_minor": 2
}
