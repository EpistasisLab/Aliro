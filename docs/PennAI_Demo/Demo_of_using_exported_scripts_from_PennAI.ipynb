{
 "cells": [
  {
   "cell_type": "code",
   "execution_count": 1,
   "metadata": {
    "collapsed": true
   },
   "outputs": [],
   "source": [
    "# Python version: 3.6.5 |Anaconda, Inc.| (default, Apr 29 2018, 16:14:56) [GCC 7.2.0]\n",
    "# Results were generated with numpy v1.15.1, pandas v0.23.4 and scikit-learn v0.19.1\n",
    "# random seed = 42\n",
    "# Training dataset filename = iris.csv\n",
    "# Pickle filename = model_5bff04d5758a07002ce3b3bf.pkl\n",
    "# Model in the pickle file: RandomForestClassifier(bootstrap=True, class_weight='balanced',\n",
    "#            criterion='entropy', max_depth=None, max_features='sqrt',\n",
    "#            max_leaf_nodes=None, min_impurity_decrease=0.0,\n",
    "#            min_impurity_split=None, min_samples_leaf=20,\n",
    "#            min_samples_split=5, min_weight_fraction_leaf=0.0,\n",
    "#            n_estimators=100, n_jobs=1, oob_score=False, random_state=42,\n",
    "#            verbose=0, warm_start=False)\n",
    "import numpy as np\n",
    "import pandas as pd\n",
    "from sklearn.model_selection import train_test_split\n",
    "from sklearn.externals import joblib\n",
    "from sklearn.utils import check_X_y\n",
    "from sklearn.metrics import make_scorer\n",
    "\n",
    "\n",
    "pickle_file = 'model_5bff04d5758a07002ce3b3bf.pkl'\n",
    "# file path to the dataset\n",
    "dataset = 'iris.csv'\n",
    "# target column name\n",
    "target_column = 'class'\n",
    "# seed to be used for train_test_split (default in PennAI is 42)\n",
    "seed = 42\n"
   ]
  },
  {
   "cell_type": "markdown",
   "metadata": {},
   "source": [
    "**NOTE**: Edit variables below with appropriate values."
   ]
  },
  {
   "cell_type": "code",
   "execution_count": 2,
   "metadata": {
    "collapsed": true
   },
   "outputs": [],
   "source": [
    "# path to your pickle file, below is the downloaded pickle file\n",
    "pickle_file = 'model_5bff04d5758a07002ce3b3bf.pkl'\n",
    "# file path to the dataset\n",
    "dataset = 'iris.csv'\n",
    "# target column name\n",
    "target_column = 'class'\n",
    "# seed to be used for train_test_split (default in PennAI is 42)\n",
    "seed = 42"
   ]
  },
  {
   "cell_type": "markdown",
   "metadata": {},
   "source": [
    "Balanced accuracy below was described in [Urbanowicz et al. 2015](https://link.springer.com/article/10.1007%2Fs12065-015-0128-8): the average of sensitivity and specificity is computed for each class and then averaged over total number of classes.It is **NOT** the same as [`sklearn.metrics.balanced_accuracy_score`](https://scikit-learn.org/stable/modules/generated/sklearn.metrics.balanced_accuracy_score.html), which is defined as the average of recall obtained on each class."
   ]
  },
  {
   "cell_type": "code",
   "execution_count": 3,
   "metadata": {
    "collapsed": true
   },
   "outputs": [],
   "source": [
    "def balanced_accuracy(y_true, y_pred):\n",
    "    all_classes = list(set(np.append(y_true, y_pred)))\n",
    "    all_class_accuracies = []\n",
    "    for this_class in all_classes:\n",
    "        this_class_sensitivity = 0.\n",
    "        this_class_specificity = 0.\n",
    "        if sum(y_true == this_class) != 0:\n",
    "            this_class_sensitivity = \\\n",
    "                float(sum((y_pred == this_class) & (y_true == this_class))) /\\\n",
    "                float(sum((y_true == this_class)))\n",
    "            this_class_specificity = \\\n",
    "                float(sum((y_pred != this_class) & (y_true != this_class))) /\\\n",
    "                float(sum((y_true != this_class)))\n",
    "        this_class_accuracy = (this_class_sensitivity +\n",
    "                               this_class_specificity) / 2.\n",
    "        all_class_accuracies.append(this_class_accuracy)\n",
    "    return np.mean(all_class_accuracies)"
   ]
  },
  {
   "cell_type": "markdown",
   "metadata": {},
   "source": [
    "## Load fitted model\n",
    "- load machine learning model from pickle file"
   ]
  },
  {
   "cell_type": "code",
   "execution_count": 4,
   "metadata": {},
   "outputs": [],
   "source": [
    "pickle_model = joblib.load(pickle_file)\n",
    "model = pickle_model['model']"
   ]
  },
  {
   "cell_type": "markdown",
   "metadata": {},
   "source": [
    "## Load input data\n",
    "- for the application 1, this input dataset should be the same dataset submitted to PennAI\n",
    "- for the application 2, this input dataset can be a different dataset for testing model of PennAI with holdout score\n",
    "- for the application 3, this input dataset can be a dataset without target column."
   ]
  },
  {
   "cell_type": "code",
   "execution_count": 5,
   "metadata": {
    "collapsed": true
   },
   "outputs": [],
   "source": [
    "input_data = pd.read_csv(dataset, sep=None, engine='python', dtype=np.float64)"
   ]
  },
  {
   "cell_type": "markdown",
   "metadata": {},
   "source": [
    "## Application 1: reproducing training score and testing score from PennAI\n",
    "- This application is to reproduce training score and testing score in PennAI UI with **the same dataset sumbitted to PennAI**."
   ]
  },
  {
   "cell_type": "code",
   "execution_count": 6,
   "metadata": {},
   "outputs": [
    {
     "name": "stdout",
     "output_type": "stream",
     "text": [
      "Training score:  0.9730930930930931\n",
      "Testing score:  0.9805128205128205\n"
     ]
    }
   ],
   "source": [
    "features = input_data.drop(target_column, axis=1).values\n",
    "target = input_data[target_column].values\n",
    "# Checking dataset\n",
    "features, target = check_X_y(features, target, dtype=np.float64, order=\"C\", force_all_finite=True)\n",
    "training_features, testing_features, training_classes, testing_classes = \\\n",
    "    train_test_split(features, target, random_state=seed, stratify=input_data[target_column])\n",
    "scorer = make_scorer(balanced_accuracy)\n",
    "train_score = scorer(model, training_features, training_classes)\n",
    "print(\"Training score: \", train_score)\n",
    "test_score = scorer(model, testing_features, testing_classes)\n",
    "print(\"Testing score: \", test_score)"
   ]
  },
  {
   "cell_type": "markdown",
   "metadata": {},
   "source": [
    "## Application 2: cross validation of fitted model\n",
    "- This application is to cross validation of fitted model with holdout score.\n",
    "- The input dataset is a holdout set for calculating holdout score \n",
    "- If the holdout score is very different from training score in PennAI, which may mean the model is overfitted."
   ]
  },
  {
   "cell_type": "code",
   "execution_count": 7,
   "metadata": {},
   "outputs": [
    {
     "name": "stdout",
     "output_type": "stream",
     "text": [
      "Holdout score: 0.9666666666666667\n"
     ]
    }
   ],
   "source": [
    "testing_features = input_data.drop(target_column, axis=1).values\n",
    "testing_target = input_data[target_column].values\n",
    "# Get holdout score for fitted model\n",
    "print(\"Holdout score: \", end=\"\")\n",
    "print(model.score(testing_features, testing_target))"
   ]
  },
  {
   "cell_type": "markdown",
   "metadata": {},
   "source": [
    "## Application 3: predict outcome by fitted model\n",
    "- This applicaiton is to predict outcome with fitted model from PennAI\n",
    "- In this application, the input dataset may not include target column\n",
    "- Please comment the first line in the cell below if there is no target column in input dataset"
   ]
  },
  {
   "cell_type": "code",
   "execution_count": 8,
   "metadata": {
    "collapsed": true
   },
   "outputs": [],
   "source": [
    "input_data.drop(target_column, axis=1, inplace=True) \n",
    "predict_target = model.predict(input_data.values)"
   ]
  }
 ],
 "metadata": {
  "kernelspec": {
   "display_name": "Python 3",
   "language": "python",
   "name": "python3"
  },
  "language_info": {
   "codemirror_mode": {
    "name": "ipython",
    "version": 3
   },
   "file_extension": ".py",
   "mimetype": "text/x-python",
   "name": "python",
   "nbconvert_exporter": "python",
   "pygments_lexer": "ipython3",
   "version": "3.6.3"
  }
 },
 "nbformat": 4,
 "nbformat_minor": 2
}
